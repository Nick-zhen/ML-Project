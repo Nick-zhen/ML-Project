{
 "cells": [
  {
   "cell_type": "code",
   "execution_count": 1,
   "metadata": {
    "deletable": false,
    "editable": false,
    "tags": []
   },
   "outputs": [],
   "source": [
    "# Initialize Otter\n",
    "import otter\n",
    "grader = otter.Notebook(\"hw5.ipynb\")"
   ]
  },
  {
   "cell_type": "markdown",
   "metadata": {},
   "source": [
    "# CPSC 330 - Applied Machine Learning \n",
    "\n",
    "## Homework 5: Putting it all together \n",
    "### Associated lectures: All material till lecture 13\n",
    "\n",
    "#### Due date: See the [Calendar](https://htmlpreview.github.io/?https://github.com/UBC-CS/cpsc330-2023s/blob/master/docs/calendar.html)."
   ]
  },
  {
   "cell_type": "markdown",
   "metadata": {},
   "source": [
    "## Table of contents\n",
    "0. [Submission instructions](#si)\n",
    "1. [Understanding the problem](#1)\n",
    "2. [Data splitting](#2)\n",
    "3. [EDA](#3)\n",
    "4. (Optional) [Feature engineering](#4)\n",
    "5. [Preprocessing and transformations](#5) \n",
    "6. [Baseline model](#6)\n",
    "7. [Linear models](#7)\n",
    "8. [Different models](#8)\n",
    "9. (Optional) [Feature selection](#9)\n",
    "10. [Hyperparameter optimization](#10)\n",
    "11. [Interpretation and feature importances](#11) \n",
    "12. [Results on the test set](#12)\n",
    "13. [Summary of the results](#13)\n",
    "14. (Optional) [Your takeaway from the course](#15)"
   ]
  },
  {
   "cell_type": "markdown",
   "metadata": {
    "tags": []
   },
   "source": [
    "## Submission instructions <a name=\"si\"></a>\n",
    "<hr>\n",
    "rubric={points:4}\n",
    "\n",
    "You will receive marks for correctly submitting this assignment. To submit this assignment, follow the instructions below:\n",
    "\n",
    "- **You may work on this assignment in a group (group size <= 4) and submit your assignment as a group.** \n",
    "- Below are some instructions on working as a group.  \n",
    "    - The maximum group size is 4. \n",
    "    - You can choose your own group members. \n",
    "    - Use group work as an opportunity to collaborate and learn new things from each other. \n",
    "    - Be respectful to each other and make sure you understand all the concepts in the assignment well. \n",
    "    - It's your responsibility to make sure that the assignment is submitted by one of the group members before the deadline. [Here](https://help.gradescope.com/article/m5qz2xsnjy-student-add-group-members) are some instructions on adding group members in Gradescope.  \n",
    "- Be sure to follow the [homework submission instructions](https://github.com/UBC-CS/cpsc330-2023s/blob/main/docs/homework_instructions.md).\n",
    "- Upload the .ipynb file to Gradescope.\n",
    "- **If the .ipynb file is too big or doesn't render on Gradescope for some reason, also upload a pdf or html in addition to the .ipynb.** \n",
    "- Make sure that your plots/output are rendered properly in Gradescope."
   ]
  },
  {
   "cell_type": "markdown",
   "metadata": {},
   "source": [
    "## Imports"
   ]
  },
  {
   "cell_type": "code",
   "execution_count": 2,
   "metadata": {
    "tags": []
   },
   "outputs": [],
   "source": [
    "import os\n",
    "\n",
    "%matplotlib inline\n",
    "import string\n",
    "import sys\n",
    "\n",
    "import matplotlib.pyplot as plt\n",
    "import numpy as np\n",
    "import pandas as pd\n",
    "\n",
    "import os\n",
    "import re\n",
    "import sys\n",
    "from hashlib import sha1\n",
    "\n",
    "import matplotlib.pyplot as plt\n",
    "import numpy as np\n",
    "import pandas as pd\n",
    "# import tests_hw5\n",
    "from sklearn import datasets\n",
    "from sklearn.compose import make_column_transformer\n",
    "from sklearn.dummy import DummyClassifier, DummyRegressor\n",
    "from sklearn.ensemble import RandomForestClassifier, RandomForestRegressor\n",
    "from sklearn.linear_model import LogisticRegression, Ridge\n",
    "from sklearn.metrics import (\n",
    "    accuracy_score,\n",
    "    classification_report,\n",
    "    confusion_matrix,\n",
    "    f1_score,\n",
    "    make_scorer,\n",
    "    precision_score,\n",
    "    recall_score,\n",
    ")\n",
    "from sklearn.model_selection import (\n",
    "    GridSearchCV,\n",
    "    RandomizedSearchCV,\n",
    "    cross_val_score,\n",
    "    cross_validate,\n",
    "    train_test_split,\n",
    ")\n",
    "from sklearn.pipeline import Pipeline, make_pipeline\n",
    "from sklearn.preprocessing import OneHotEncoder, OrdinalEncoder, StandardScaler\n",
    "import random"
   ]
  },
  {
   "cell_type": "markdown",
   "metadata": {
    "tags": []
   },
   "source": [
    "## Introduction <a name=\"in\"></a>\n",
    "\n",
    "In this homework you will be working on an open-ended mini-project, where you will put all the different things you have learned so far together to solve an interesting problem.\n",
    "\n",
    "A few notes and tips when you work on this mini-project: \n",
    "\n",
    "#### Tips\n",
    "1. This mini-project is open-ended, and while working on it, there might be some situations where you'll have to use your own judgment and make your own decisions (as you would be doing when you work as a data scientist). Make sure you explain your decisions whenever necessary. \n",
    "2. **Do not include everything you ever tried in your submission** -- it's fine just to have your final code. That said, your code should be reproducible and well-documented. For example, if you chose your hyperparameters based on some hyperparameter optimization experiment, you should leave in the code for that experiment so that someone else could re-run it and obtain the same hyperparameters, rather than mysteriously just setting the hyperparameters to some (carefully chosen) values in your code. \n",
    "3. If you realize that you are repeating a lot of code try to organize it in functions. Clear presentation of your code, experiments, and results is the key to be successful in this lab. You may use code from lecture notes or previous lab solutions with appropriate attributions. \n",
    "\n",
    "#### Assessment\n",
    "We plan to grade fairly and leniently. We don't have some secret target score that you need to achieve to get a good grade. **You'll be assessed on demonstration of mastery of course topics, clear presentation, and the quality of your analysis and results.** For example, if you just have a bunch of code and no text or figures, that's not good. If you do a bunch of sane things and get a lower accuracy than your friend, don't sweat it.\n",
    "\n",
    "\n",
    "#### A final note\n",
    "Finally, this style of this \"project\" question is different from other assignments. It'll be up to you to decide when you're \"done\" -- in fact, this is one of the hardest parts of real projects. But please don't spend WAY too much time on this... perhaps \"a few hours\" (15-20 hours???) is a good guideline for this project . Of course if you're having fun you're welcome to spend as much time as you want! But, if so, try not to do it out of perfectionism or getting the best possible grade. Do it because you're learning and enjoying it. Students from the past cohorts have found such kind of labs useful and fun and I hope you enjoy it as well. "
   ]
  },
  {
   "cell_type": "markdown",
   "metadata": {},
   "source": [
    "<br><br>"
   ]
  },
  {
   "cell_type": "markdown",
   "metadata": {},
   "source": [
    "<!-- BEGIN QUESTION -->\n",
    "\n",
    "## 1. Pick your problem and explain the prediction problem <a name=\"1\"></a>\n",
    "<hr>\n",
    "rubric={points:3}\n",
    "\n",
    "In this mini project, you will be working on a classification problem of predicting whether a credit card client will default or not. \n",
    "For this problem, you will use [Default of Credit Card Clients Dataset](https://www.kaggle.com/uciml/default-of-credit-card-clients-dataset). In this data set, there are 30,000 examples and 24 features, and the goal is to estimate whether a person will default (fail to pay) their credit card bills; this column is labeled \"default.payment.next.month\" in the data. The rest of the columns can be used as features. You may take some ideas and compare your results with [the associated research paper](https://www.sciencedirect.com/science/article/pii/S0957417407006719), which is available through [the UBC library](https://www.library.ubc.ca/). \n",
    "\n",
    "**Your tasks:**\n",
    "\n",
    "1. Spend some time understanding the problem and what each feature means. You can find this information in the documentation on [the dataset page on Kaggle](https://www.kaggle.com/uciml/default-of-credit-card-clients-dataset). Write a few sentences on your initial thoughts on the problem and the dataset. \n",
    "2. Download the dataset and read it as a pandas dataframe. "
   ]
  },
  {
   "cell_type": "markdown",
   "metadata": {},
   "source": [
    "<div class=\"alert alert-warning\">\n",
    "    \n",
    "Solution_1\n",
    "    \n",
    "</div>"
   ]
  },
  {
   "cell_type": "markdown",
   "metadata": {},
   "source": [
    "The target is binary which is 1 for default, 0 for non-default. The features are almost nemeric. But for sex and marriage can be binary categorical features and education can be ordinal categorical feature. For those numeric features, I am planning to scale them. In the end, our goal is to predict whether a credic card client will default or not depending on those feature values."
   ]
  },
  {
   "cell_type": "code",
   "execution_count": 3,
   "metadata": {
    "tags": []
   },
   "outputs": [
    {
     "data": {
      "text/html": [
       "<div>\n",
       "<style scoped>\n",
       "    .dataframe tbody tr th:only-of-type {\n",
       "        vertical-align: middle;\n",
       "    }\n",
       "\n",
       "    .dataframe tbody tr th {\n",
       "        vertical-align: top;\n",
       "    }\n",
       "\n",
       "    .dataframe thead th {\n",
       "        text-align: right;\n",
       "    }\n",
       "</style>\n",
       "<table border=\"1\" class=\"dataframe\">\n",
       "  <thead>\n",
       "    <tr style=\"text-align: right;\">\n",
       "      <th></th>\n",
       "      <th>ID</th>\n",
       "      <th>LIMIT_BAL</th>\n",
       "      <th>SEX</th>\n",
       "      <th>EDUCATION</th>\n",
       "      <th>MARRIAGE</th>\n",
       "      <th>AGE</th>\n",
       "      <th>PAY_0</th>\n",
       "      <th>PAY_2</th>\n",
       "      <th>PAY_3</th>\n",
       "      <th>PAY_4</th>\n",
       "      <th>...</th>\n",
       "      <th>BILL_AMT4</th>\n",
       "      <th>BILL_AMT5</th>\n",
       "      <th>BILL_AMT6</th>\n",
       "      <th>PAY_AMT1</th>\n",
       "      <th>PAY_AMT2</th>\n",
       "      <th>PAY_AMT3</th>\n",
       "      <th>PAY_AMT4</th>\n",
       "      <th>PAY_AMT5</th>\n",
       "      <th>PAY_AMT6</th>\n",
       "      <th>default.payment.next.month</th>\n",
       "    </tr>\n",
       "  </thead>\n",
       "  <tbody>\n",
       "    <tr>\n",
       "      <th>0</th>\n",
       "      <td>1</td>\n",
       "      <td>20000.0</td>\n",
       "      <td>2</td>\n",
       "      <td>2</td>\n",
       "      <td>1</td>\n",
       "      <td>24</td>\n",
       "      <td>2</td>\n",
       "      <td>2</td>\n",
       "      <td>-1</td>\n",
       "      <td>-1</td>\n",
       "      <td>...</td>\n",
       "      <td>0.0</td>\n",
       "      <td>0.0</td>\n",
       "      <td>0.0</td>\n",
       "      <td>0.0</td>\n",
       "      <td>689.0</td>\n",
       "      <td>0.0</td>\n",
       "      <td>0.0</td>\n",
       "      <td>0.0</td>\n",
       "      <td>0.0</td>\n",
       "      <td>1</td>\n",
       "    </tr>\n",
       "    <tr>\n",
       "      <th>1</th>\n",
       "      <td>2</td>\n",
       "      <td>120000.0</td>\n",
       "      <td>2</td>\n",
       "      <td>2</td>\n",
       "      <td>2</td>\n",
       "      <td>26</td>\n",
       "      <td>-1</td>\n",
       "      <td>2</td>\n",
       "      <td>0</td>\n",
       "      <td>0</td>\n",
       "      <td>...</td>\n",
       "      <td>3272.0</td>\n",
       "      <td>3455.0</td>\n",
       "      <td>3261.0</td>\n",
       "      <td>0.0</td>\n",
       "      <td>1000.0</td>\n",
       "      <td>1000.0</td>\n",
       "      <td>1000.0</td>\n",
       "      <td>0.0</td>\n",
       "      <td>2000.0</td>\n",
       "      <td>1</td>\n",
       "    </tr>\n",
       "    <tr>\n",
       "      <th>2</th>\n",
       "      <td>3</td>\n",
       "      <td>90000.0</td>\n",
       "      <td>2</td>\n",
       "      <td>2</td>\n",
       "      <td>2</td>\n",
       "      <td>34</td>\n",
       "      <td>0</td>\n",
       "      <td>0</td>\n",
       "      <td>0</td>\n",
       "      <td>0</td>\n",
       "      <td>...</td>\n",
       "      <td>14331.0</td>\n",
       "      <td>14948.0</td>\n",
       "      <td>15549.0</td>\n",
       "      <td>1518.0</td>\n",
       "      <td>1500.0</td>\n",
       "      <td>1000.0</td>\n",
       "      <td>1000.0</td>\n",
       "      <td>1000.0</td>\n",
       "      <td>5000.0</td>\n",
       "      <td>0</td>\n",
       "    </tr>\n",
       "    <tr>\n",
       "      <th>3</th>\n",
       "      <td>4</td>\n",
       "      <td>50000.0</td>\n",
       "      <td>2</td>\n",
       "      <td>2</td>\n",
       "      <td>1</td>\n",
       "      <td>37</td>\n",
       "      <td>0</td>\n",
       "      <td>0</td>\n",
       "      <td>0</td>\n",
       "      <td>0</td>\n",
       "      <td>...</td>\n",
       "      <td>28314.0</td>\n",
       "      <td>28959.0</td>\n",
       "      <td>29547.0</td>\n",
       "      <td>2000.0</td>\n",
       "      <td>2019.0</td>\n",
       "      <td>1200.0</td>\n",
       "      <td>1100.0</td>\n",
       "      <td>1069.0</td>\n",
       "      <td>1000.0</td>\n",
       "      <td>0</td>\n",
       "    </tr>\n",
       "    <tr>\n",
       "      <th>4</th>\n",
       "      <td>5</td>\n",
       "      <td>50000.0</td>\n",
       "      <td>1</td>\n",
       "      <td>2</td>\n",
       "      <td>1</td>\n",
       "      <td>57</td>\n",
       "      <td>-1</td>\n",
       "      <td>0</td>\n",
       "      <td>-1</td>\n",
       "      <td>0</td>\n",
       "      <td>...</td>\n",
       "      <td>20940.0</td>\n",
       "      <td>19146.0</td>\n",
       "      <td>19131.0</td>\n",
       "      <td>2000.0</td>\n",
       "      <td>36681.0</td>\n",
       "      <td>10000.0</td>\n",
       "      <td>9000.0</td>\n",
       "      <td>689.0</td>\n",
       "      <td>679.0</td>\n",
       "      <td>0</td>\n",
       "    </tr>\n",
       "    <tr>\n",
       "      <th>...</th>\n",
       "      <td>...</td>\n",
       "      <td>...</td>\n",
       "      <td>...</td>\n",
       "      <td>...</td>\n",
       "      <td>...</td>\n",
       "      <td>...</td>\n",
       "      <td>...</td>\n",
       "      <td>...</td>\n",
       "      <td>...</td>\n",
       "      <td>...</td>\n",
       "      <td>...</td>\n",
       "      <td>...</td>\n",
       "      <td>...</td>\n",
       "      <td>...</td>\n",
       "      <td>...</td>\n",
       "      <td>...</td>\n",
       "      <td>...</td>\n",
       "      <td>...</td>\n",
       "      <td>...</td>\n",
       "      <td>...</td>\n",
       "      <td>...</td>\n",
       "    </tr>\n",
       "    <tr>\n",
       "      <th>29995</th>\n",
       "      <td>29996</td>\n",
       "      <td>220000.0</td>\n",
       "      <td>1</td>\n",
       "      <td>3</td>\n",
       "      <td>1</td>\n",
       "      <td>39</td>\n",
       "      <td>0</td>\n",
       "      <td>0</td>\n",
       "      <td>0</td>\n",
       "      <td>0</td>\n",
       "      <td>...</td>\n",
       "      <td>88004.0</td>\n",
       "      <td>31237.0</td>\n",
       "      <td>15980.0</td>\n",
       "      <td>8500.0</td>\n",
       "      <td>20000.0</td>\n",
       "      <td>5003.0</td>\n",
       "      <td>3047.0</td>\n",
       "      <td>5000.0</td>\n",
       "      <td>1000.0</td>\n",
       "      <td>0</td>\n",
       "    </tr>\n",
       "    <tr>\n",
       "      <th>29996</th>\n",
       "      <td>29997</td>\n",
       "      <td>150000.0</td>\n",
       "      <td>1</td>\n",
       "      <td>3</td>\n",
       "      <td>2</td>\n",
       "      <td>43</td>\n",
       "      <td>-1</td>\n",
       "      <td>-1</td>\n",
       "      <td>-1</td>\n",
       "      <td>-1</td>\n",
       "      <td>...</td>\n",
       "      <td>8979.0</td>\n",
       "      <td>5190.0</td>\n",
       "      <td>0.0</td>\n",
       "      <td>1837.0</td>\n",
       "      <td>3526.0</td>\n",
       "      <td>8998.0</td>\n",
       "      <td>129.0</td>\n",
       "      <td>0.0</td>\n",
       "      <td>0.0</td>\n",
       "      <td>0</td>\n",
       "    </tr>\n",
       "    <tr>\n",
       "      <th>29997</th>\n",
       "      <td>29998</td>\n",
       "      <td>30000.0</td>\n",
       "      <td>1</td>\n",
       "      <td>2</td>\n",
       "      <td>2</td>\n",
       "      <td>37</td>\n",
       "      <td>4</td>\n",
       "      <td>3</td>\n",
       "      <td>2</td>\n",
       "      <td>-1</td>\n",
       "      <td>...</td>\n",
       "      <td>20878.0</td>\n",
       "      <td>20582.0</td>\n",
       "      <td>19357.0</td>\n",
       "      <td>0.0</td>\n",
       "      <td>0.0</td>\n",
       "      <td>22000.0</td>\n",
       "      <td>4200.0</td>\n",
       "      <td>2000.0</td>\n",
       "      <td>3100.0</td>\n",
       "      <td>1</td>\n",
       "    </tr>\n",
       "    <tr>\n",
       "      <th>29998</th>\n",
       "      <td>29999</td>\n",
       "      <td>80000.0</td>\n",
       "      <td>1</td>\n",
       "      <td>3</td>\n",
       "      <td>1</td>\n",
       "      <td>41</td>\n",
       "      <td>1</td>\n",
       "      <td>-1</td>\n",
       "      <td>0</td>\n",
       "      <td>0</td>\n",
       "      <td>...</td>\n",
       "      <td>52774.0</td>\n",
       "      <td>11855.0</td>\n",
       "      <td>48944.0</td>\n",
       "      <td>85900.0</td>\n",
       "      <td>3409.0</td>\n",
       "      <td>1178.0</td>\n",
       "      <td>1926.0</td>\n",
       "      <td>52964.0</td>\n",
       "      <td>1804.0</td>\n",
       "      <td>1</td>\n",
       "    </tr>\n",
       "    <tr>\n",
       "      <th>29999</th>\n",
       "      <td>30000</td>\n",
       "      <td>50000.0</td>\n",
       "      <td>1</td>\n",
       "      <td>2</td>\n",
       "      <td>1</td>\n",
       "      <td>46</td>\n",
       "      <td>0</td>\n",
       "      <td>0</td>\n",
       "      <td>0</td>\n",
       "      <td>0</td>\n",
       "      <td>...</td>\n",
       "      <td>36535.0</td>\n",
       "      <td>32428.0</td>\n",
       "      <td>15313.0</td>\n",
       "      <td>2078.0</td>\n",
       "      <td>1800.0</td>\n",
       "      <td>1430.0</td>\n",
       "      <td>1000.0</td>\n",
       "      <td>1000.0</td>\n",
       "      <td>1000.0</td>\n",
       "      <td>1</td>\n",
       "    </tr>\n",
       "  </tbody>\n",
       "</table>\n",
       "<p>30000 rows × 25 columns</p>\n",
       "</div>"
      ],
      "text/plain": [
       "          ID  LIMIT_BAL  SEX  EDUCATION  MARRIAGE  AGE  PAY_0  PAY_2  PAY_3  \\\n",
       "0          1    20000.0    2          2         1   24      2      2     -1   \n",
       "1          2   120000.0    2          2         2   26     -1      2      0   \n",
       "2          3    90000.0    2          2         2   34      0      0      0   \n",
       "3          4    50000.0    2          2         1   37      0      0      0   \n",
       "4          5    50000.0    1          2         1   57     -1      0     -1   \n",
       "...      ...        ...  ...        ...       ...  ...    ...    ...    ...   \n",
       "29995  29996   220000.0    1          3         1   39      0      0      0   \n",
       "29996  29997   150000.0    1          3         2   43     -1     -1     -1   \n",
       "29997  29998    30000.0    1          2         2   37      4      3      2   \n",
       "29998  29999    80000.0    1          3         1   41      1     -1      0   \n",
       "29999  30000    50000.0    1          2         1   46      0      0      0   \n",
       "\n",
       "       PAY_4  ...  BILL_AMT4  BILL_AMT5  BILL_AMT6  PAY_AMT1  PAY_AMT2  \\\n",
       "0         -1  ...        0.0        0.0        0.0       0.0     689.0   \n",
       "1          0  ...     3272.0     3455.0     3261.0       0.0    1000.0   \n",
       "2          0  ...    14331.0    14948.0    15549.0    1518.0    1500.0   \n",
       "3          0  ...    28314.0    28959.0    29547.0    2000.0    2019.0   \n",
       "4          0  ...    20940.0    19146.0    19131.0    2000.0   36681.0   \n",
       "...      ...  ...        ...        ...        ...       ...       ...   \n",
       "29995      0  ...    88004.0    31237.0    15980.0    8500.0   20000.0   \n",
       "29996     -1  ...     8979.0     5190.0        0.0    1837.0    3526.0   \n",
       "29997     -1  ...    20878.0    20582.0    19357.0       0.0       0.0   \n",
       "29998      0  ...    52774.0    11855.0    48944.0   85900.0    3409.0   \n",
       "29999      0  ...    36535.0    32428.0    15313.0    2078.0    1800.0   \n",
       "\n",
       "       PAY_AMT3  PAY_AMT4  PAY_AMT5  PAY_AMT6  default.payment.next.month  \n",
       "0           0.0       0.0       0.0       0.0                           1  \n",
       "1        1000.0    1000.0       0.0    2000.0                           1  \n",
       "2        1000.0    1000.0    1000.0    5000.0                           0  \n",
       "3        1200.0    1100.0    1069.0    1000.0                           0  \n",
       "4       10000.0    9000.0     689.0     679.0                           0  \n",
       "...         ...       ...       ...       ...                         ...  \n",
       "29995    5003.0    3047.0    5000.0    1000.0                           0  \n",
       "29996    8998.0     129.0       0.0       0.0                           0  \n",
       "29997   22000.0    4200.0    2000.0    3100.0                           1  \n",
       "29998    1178.0    1926.0   52964.0    1804.0                           1  \n",
       "29999    1430.0    1000.0    1000.0    1000.0                           1  \n",
       "\n",
       "[30000 rows x 25 columns]"
      ]
     },
     "execution_count": 3,
     "metadata": {},
     "output_type": "execute_result"
    }
   ],
   "source": [
    "data_frame = pd.read_csv(\"data/UCI_Credit_Card.csv\")\n",
    "data_frame"
   ]
  },
  {
   "cell_type": "markdown",
   "metadata": {},
   "source": [
    "<!-- END QUESTION -->\n",
    "\n",
    "<br><br>"
   ]
  },
  {
   "cell_type": "markdown",
   "metadata": {},
   "source": [
    "<!-- BEGIN QUESTION -->\n",
    "\n",
    "## 2. Data splitting <a name=\"2\"></a>\n",
    "<hr>\n",
    "rubric={points:2}\n",
    "\n",
    "**Your tasks:**\n",
    "\n",
    "1. Split the data into train (70%) and test (30%) portions with `random_state=123`.\n",
    "\n",
    "> If your computer cannot handle training on 70% training data, make the test split bigger.  "
   ]
  },
  {
   "cell_type": "markdown",
   "metadata": {},
   "source": [
    "<div class=\"alert alert-warning\">\n",
    "    \n",
    "Solution_2\n",
    "    \n",
    "</div>"
   ]
  },
  {
   "cell_type": "code",
   "execution_count": 4,
   "metadata": {
    "tags": []
   },
   "outputs": [],
   "source": [
    "random.seed(10)\n",
    "train_df, test_df = train_test_split(data_frame, test_size=0.3, random_state=123)"
   ]
  },
  {
   "cell_type": "markdown",
   "metadata": {},
   "source": [
    "<!-- END QUESTION -->\n",
    "\n",
    "<br><br>"
   ]
  },
  {
   "cell_type": "code",
   "execution_count": 5,
   "metadata": {
    "tags": []
   },
   "outputs": [
    {
     "data": {
      "text/plain": [
       "2    9815\n",
       "1    7433\n",
       "3    3416\n",
       "5     210\n",
       "4      81\n",
       "6      35\n",
       "0      10\n",
       "Name: EDUCATION, dtype: int64"
      ]
     },
     "execution_count": 5,
     "metadata": {},
     "output_type": "execute_result"
    }
   ],
   "source": [
    "train_df['EDUCATION'].value_counts()"
   ]
  },
  {
   "cell_type": "markdown",
   "metadata": {},
   "source": [
    "<!-- BEGIN QUESTION -->\n",
    "\n",
    "## 3. EDA <a name=\"3\"></a>\n",
    "<hr>\n",
    "rubric={points:10}\n",
    "\n",
    "**Your tasks:**\n",
    "\n",
    "1. Perform exploratory data analysis on the train set.\n",
    "2. Include at least two summary statistics and two visualizations that you find useful, and accompany each one with a sentence explaining it.\n",
    "3. Summarize your initial observations about the data. \n",
    "4. Pick appropriate metric/metrics for assessment. "
   ]
  },
  {
   "cell_type": "markdown",
   "metadata": {},
   "source": [
    "<div class=\"alert alert-warning\">\n",
    "    \n",
    "Solution_3\n",
    "    \n",
    "</div>"
   ]
  },
  {
   "cell_type": "markdown",
   "metadata": {},
   "source": [
    "_Type your answer here, replacing this text._"
   ]
  },
  {
   "cell_type": "code",
   "execution_count": 6,
   "metadata": {
    "tags": []
   },
   "outputs": [
    {
     "name": "stdout",
     "output_type": "stream",
     "text": [
      "(21000, 25)\n",
      "<class 'pandas.core.frame.DataFrame'>\n",
      "Int64Index: 21000 entries, 16395 to 19966\n",
      "Data columns (total 25 columns):\n",
      " #   Column                      Non-Null Count  Dtype  \n",
      "---  ------                      --------------  -----  \n",
      " 0   ID                          21000 non-null  int64  \n",
      " 1   LIMIT_BAL                   21000 non-null  float64\n",
      " 2   SEX                         21000 non-null  int64  \n",
      " 3   EDUCATION                   21000 non-null  int64  \n",
      " 4   MARRIAGE                    21000 non-null  int64  \n",
      " 5   AGE                         21000 non-null  int64  \n",
      " 6   PAY_0                       21000 non-null  int64  \n",
      " 7   PAY_2                       21000 non-null  int64  \n",
      " 8   PAY_3                       21000 non-null  int64  \n",
      " 9   PAY_4                       21000 non-null  int64  \n",
      " 10  PAY_5                       21000 non-null  int64  \n",
      " 11  PAY_6                       21000 non-null  int64  \n",
      " 12  BILL_AMT1                   21000 non-null  float64\n",
      " 13  BILL_AMT2                   21000 non-null  float64\n",
      " 14  BILL_AMT3                   21000 non-null  float64\n",
      " 15  BILL_AMT4                   21000 non-null  float64\n",
      " 16  BILL_AMT5                   21000 non-null  float64\n",
      " 17  BILL_AMT6                   21000 non-null  float64\n",
      " 18  PAY_AMT1                    21000 non-null  float64\n",
      " 19  PAY_AMT2                    21000 non-null  float64\n",
      " 20  PAY_AMT3                    21000 non-null  float64\n",
      " 21  PAY_AMT4                    21000 non-null  float64\n",
      " 22  PAY_AMT5                    21000 non-null  float64\n",
      " 23  PAY_AMT6                    21000 non-null  float64\n",
      " 24  default.payment.next.month  21000 non-null  int64  \n",
      "dtypes: float64(13), int64(12)\n",
      "memory usage: 4.2 MB\n"
     ]
    }
   ],
   "source": [
    "print(train_df.shape)\n",
    "train_df.info()"
   ]
  },
  {
   "cell_type": "markdown",
   "metadata": {},
   "source": [
    "There are 21000 rows."
   ]
  },
  {
   "cell_type": "code",
   "execution_count": 7,
   "metadata": {
    "tags": []
   },
   "outputs": [
    {
     "data": {
      "text/html": [
       "<div>\n",
       "<style scoped>\n",
       "    .dataframe tbody tr th:only-of-type {\n",
       "        vertical-align: middle;\n",
       "    }\n",
       "\n",
       "    .dataframe tbody tr th {\n",
       "        vertical-align: top;\n",
       "    }\n",
       "\n",
       "    .dataframe thead th {\n",
       "        text-align: right;\n",
       "    }\n",
       "</style>\n",
       "<table border=\"1\" class=\"dataframe\">\n",
       "  <thead>\n",
       "    <tr style=\"text-align: right;\">\n",
       "      <th></th>\n",
       "      <th>ID</th>\n",
       "      <th>LIMIT_BAL</th>\n",
       "      <th>SEX</th>\n",
       "      <th>EDUCATION</th>\n",
       "      <th>MARRIAGE</th>\n",
       "      <th>AGE</th>\n",
       "      <th>PAY_0</th>\n",
       "      <th>PAY_2</th>\n",
       "      <th>PAY_3</th>\n",
       "      <th>PAY_4</th>\n",
       "      <th>...</th>\n",
       "      <th>BILL_AMT4</th>\n",
       "      <th>BILL_AMT5</th>\n",
       "      <th>BILL_AMT6</th>\n",
       "      <th>PAY_AMT1</th>\n",
       "      <th>PAY_AMT2</th>\n",
       "      <th>PAY_AMT3</th>\n",
       "      <th>PAY_AMT4</th>\n",
       "      <th>PAY_AMT5</th>\n",
       "      <th>PAY_AMT6</th>\n",
       "      <th>default.payment.next.month</th>\n",
       "    </tr>\n",
       "  </thead>\n",
       "  <tbody>\n",
       "    <tr>\n",
       "      <th>count</th>\n",
       "      <td>21000.000000</td>\n",
       "      <td>21000.000000</td>\n",
       "      <td>21000.000000</td>\n",
       "      <td>21000.000000</td>\n",
       "      <td>21000.000000</td>\n",
       "      <td>21000.000000</td>\n",
       "      <td>21000.000000</td>\n",
       "      <td>21000.000000</td>\n",
       "      <td>21000.000000</td>\n",
       "      <td>21000.000000</td>\n",
       "      <td>...</td>\n",
       "      <td>21000.000000</td>\n",
       "      <td>21000.000000</td>\n",
       "      <td>21000.000000</td>\n",
       "      <td>21000.000000</td>\n",
       "      <td>2.100000e+04</td>\n",
       "      <td>21000.000000</td>\n",
       "      <td>21000.000000</td>\n",
       "      <td>21000.000000</td>\n",
       "      <td>21000.000000</td>\n",
       "      <td>21000.000000</td>\n",
       "    </tr>\n",
       "    <tr>\n",
       "      <th>mean</th>\n",
       "      <td>14962.348238</td>\n",
       "      <td>167880.651429</td>\n",
       "      <td>1.600762</td>\n",
       "      <td>1.852143</td>\n",
       "      <td>1.554000</td>\n",
       "      <td>35.500810</td>\n",
       "      <td>-0.015429</td>\n",
       "      <td>-0.137095</td>\n",
       "      <td>-0.171619</td>\n",
       "      <td>-0.225238</td>\n",
       "      <td>...</td>\n",
       "      <td>43486.610905</td>\n",
       "      <td>40428.518333</td>\n",
       "      <td>38767.202667</td>\n",
       "      <td>5673.585143</td>\n",
       "      <td>5.895027e+03</td>\n",
       "      <td>5311.432286</td>\n",
       "      <td>4774.021381</td>\n",
       "      <td>4751.850095</td>\n",
       "      <td>5237.762190</td>\n",
       "      <td>0.223238</td>\n",
       "    </tr>\n",
       "    <tr>\n",
       "      <th>std</th>\n",
       "      <td>8650.734050</td>\n",
       "      <td>130202.682167</td>\n",
       "      <td>0.489753</td>\n",
       "      <td>0.792961</td>\n",
       "      <td>0.521675</td>\n",
       "      <td>9.212644</td>\n",
       "      <td>1.120465</td>\n",
       "      <td>1.194506</td>\n",
       "      <td>1.196123</td>\n",
       "      <td>1.168556</td>\n",
       "      <td>...</td>\n",
       "      <td>64843.303993</td>\n",
       "      <td>61187.200817</td>\n",
       "      <td>59587.689549</td>\n",
       "      <td>17033.241454</td>\n",
       "      <td>2.180143e+04</td>\n",
       "      <td>18377.997079</td>\n",
       "      <td>15434.136142</td>\n",
       "      <td>15228.193125</td>\n",
       "      <td>18116.846563</td>\n",
       "      <td>0.416427</td>\n",
       "    </tr>\n",
       "    <tr>\n",
       "      <th>min</th>\n",
       "      <td>1.000000</td>\n",
       "      <td>10000.000000</td>\n",
       "      <td>1.000000</td>\n",
       "      <td>0.000000</td>\n",
       "      <td>0.000000</td>\n",
       "      <td>21.000000</td>\n",
       "      <td>-2.000000</td>\n",
       "      <td>-2.000000</td>\n",
       "      <td>-2.000000</td>\n",
       "      <td>-2.000000</td>\n",
       "      <td>...</td>\n",
       "      <td>-50616.000000</td>\n",
       "      <td>-61372.000000</td>\n",
       "      <td>-339603.000000</td>\n",
       "      <td>0.000000</td>\n",
       "      <td>0.000000e+00</td>\n",
       "      <td>0.000000</td>\n",
       "      <td>0.000000</td>\n",
       "      <td>0.000000</td>\n",
       "      <td>0.000000</td>\n",
       "      <td>0.000000</td>\n",
       "    </tr>\n",
       "    <tr>\n",
       "      <th>25%</th>\n",
       "      <td>7498.750000</td>\n",
       "      <td>50000.000000</td>\n",
       "      <td>1.000000</td>\n",
       "      <td>1.000000</td>\n",
       "      <td>1.000000</td>\n",
       "      <td>28.000000</td>\n",
       "      <td>-1.000000</td>\n",
       "      <td>-1.000000</td>\n",
       "      <td>-1.000000</td>\n",
       "      <td>-1.000000</td>\n",
       "      <td>...</td>\n",
       "      <td>2293.750000</td>\n",
       "      <td>1739.500000</td>\n",
       "      <td>1215.750000</td>\n",
       "      <td>1000.000000</td>\n",
       "      <td>8.200000e+02</td>\n",
       "      <td>390.000000</td>\n",
       "      <td>266.000000</td>\n",
       "      <td>234.000000</td>\n",
       "      <td>110.750000</td>\n",
       "      <td>0.000000</td>\n",
       "    </tr>\n",
       "    <tr>\n",
       "      <th>50%</th>\n",
       "      <td>14960.500000</td>\n",
       "      <td>140000.000000</td>\n",
       "      <td>2.000000</td>\n",
       "      <td>2.000000</td>\n",
       "      <td>2.000000</td>\n",
       "      <td>34.000000</td>\n",
       "      <td>0.000000</td>\n",
       "      <td>0.000000</td>\n",
       "      <td>0.000000</td>\n",
       "      <td>0.000000</td>\n",
       "      <td>...</td>\n",
       "      <td>19102.500000</td>\n",
       "      <td>18083.000000</td>\n",
       "      <td>16854.500000</td>\n",
       "      <td>2100.000000</td>\n",
       "      <td>2.007000e+03</td>\n",
       "      <td>1809.500000</td>\n",
       "      <td>1500.000000</td>\n",
       "      <td>1500.000000</td>\n",
       "      <td>1500.000000</td>\n",
       "      <td>0.000000</td>\n",
       "    </tr>\n",
       "    <tr>\n",
       "      <th>75%</th>\n",
       "      <td>22458.250000</td>\n",
       "      <td>240000.000000</td>\n",
       "      <td>2.000000</td>\n",
       "      <td>2.000000</td>\n",
       "      <td>2.000000</td>\n",
       "      <td>41.000000</td>\n",
       "      <td>0.000000</td>\n",
       "      <td>0.000000</td>\n",
       "      <td>0.000000</td>\n",
       "      <td>0.000000</td>\n",
       "      <td>...</td>\n",
       "      <td>54763.250000</td>\n",
       "      <td>50491.000000</td>\n",
       "      <td>49253.750000</td>\n",
       "      <td>5007.250000</td>\n",
       "      <td>5.000000e+03</td>\n",
       "      <td>4628.500000</td>\n",
       "      <td>4021.250000</td>\n",
       "      <td>4016.000000</td>\n",
       "      <td>4000.000000</td>\n",
       "      <td>0.000000</td>\n",
       "    </tr>\n",
       "    <tr>\n",
       "      <th>max</th>\n",
       "      <td>30000.000000</td>\n",
       "      <td>1000000.000000</td>\n",
       "      <td>2.000000</td>\n",
       "      <td>6.000000</td>\n",
       "      <td>3.000000</td>\n",
       "      <td>79.000000</td>\n",
       "      <td>8.000000</td>\n",
       "      <td>8.000000</td>\n",
       "      <td>8.000000</td>\n",
       "      <td>8.000000</td>\n",
       "      <td>...</td>\n",
       "      <td>891586.000000</td>\n",
       "      <td>927171.000000</td>\n",
       "      <td>961664.000000</td>\n",
       "      <td>873552.000000</td>\n",
       "      <td>1.227082e+06</td>\n",
       "      <td>896040.000000</td>\n",
       "      <td>621000.000000</td>\n",
       "      <td>426529.000000</td>\n",
       "      <td>528666.000000</td>\n",
       "      <td>1.000000</td>\n",
       "    </tr>\n",
       "  </tbody>\n",
       "</table>\n",
       "<p>8 rows × 25 columns</p>\n",
       "</div>"
      ],
      "text/plain": [
       "                 ID       LIMIT_BAL           SEX     EDUCATION      MARRIAGE  \\\n",
       "count  21000.000000    21000.000000  21000.000000  21000.000000  21000.000000   \n",
       "mean   14962.348238   167880.651429      1.600762      1.852143      1.554000   \n",
       "std     8650.734050   130202.682167      0.489753      0.792961      0.521675   \n",
       "min        1.000000    10000.000000      1.000000      0.000000      0.000000   \n",
       "25%     7498.750000    50000.000000      1.000000      1.000000      1.000000   \n",
       "50%    14960.500000   140000.000000      2.000000      2.000000      2.000000   \n",
       "75%    22458.250000   240000.000000      2.000000      2.000000      2.000000   \n",
       "max    30000.000000  1000000.000000      2.000000      6.000000      3.000000   \n",
       "\n",
       "                AGE         PAY_0         PAY_2         PAY_3         PAY_4  \\\n",
       "count  21000.000000  21000.000000  21000.000000  21000.000000  21000.000000   \n",
       "mean      35.500810     -0.015429     -0.137095     -0.171619     -0.225238   \n",
       "std        9.212644      1.120465      1.194506      1.196123      1.168556   \n",
       "min       21.000000     -2.000000     -2.000000     -2.000000     -2.000000   \n",
       "25%       28.000000     -1.000000     -1.000000     -1.000000     -1.000000   \n",
       "50%       34.000000      0.000000      0.000000      0.000000      0.000000   \n",
       "75%       41.000000      0.000000      0.000000      0.000000      0.000000   \n",
       "max       79.000000      8.000000      8.000000      8.000000      8.000000   \n",
       "\n",
       "       ...      BILL_AMT4      BILL_AMT5      BILL_AMT6       PAY_AMT1  \\\n",
       "count  ...   21000.000000   21000.000000   21000.000000   21000.000000   \n",
       "mean   ...   43486.610905   40428.518333   38767.202667    5673.585143   \n",
       "std    ...   64843.303993   61187.200817   59587.689549   17033.241454   \n",
       "min    ...  -50616.000000  -61372.000000 -339603.000000       0.000000   \n",
       "25%    ...    2293.750000    1739.500000    1215.750000    1000.000000   \n",
       "50%    ...   19102.500000   18083.000000   16854.500000    2100.000000   \n",
       "75%    ...   54763.250000   50491.000000   49253.750000    5007.250000   \n",
       "max    ...  891586.000000  927171.000000  961664.000000  873552.000000   \n",
       "\n",
       "           PAY_AMT2       PAY_AMT3       PAY_AMT4       PAY_AMT5  \\\n",
       "count  2.100000e+04   21000.000000   21000.000000   21000.000000   \n",
       "mean   5.895027e+03    5311.432286    4774.021381    4751.850095   \n",
       "std    2.180143e+04   18377.997079   15434.136142   15228.193125   \n",
       "min    0.000000e+00       0.000000       0.000000       0.000000   \n",
       "25%    8.200000e+02     390.000000     266.000000     234.000000   \n",
       "50%    2.007000e+03    1809.500000    1500.000000    1500.000000   \n",
       "75%    5.000000e+03    4628.500000    4021.250000    4016.000000   \n",
       "max    1.227082e+06  896040.000000  621000.000000  426529.000000   \n",
       "\n",
       "            PAY_AMT6  default.payment.next.month  \n",
       "count   21000.000000                21000.000000  \n",
       "mean     5237.762190                    0.223238  \n",
       "std     18116.846563                    0.416427  \n",
       "min         0.000000                    0.000000  \n",
       "25%       110.750000                    0.000000  \n",
       "50%      1500.000000                    0.000000  \n",
       "75%      4000.000000                    0.000000  \n",
       "max    528666.000000                    1.000000  \n",
       "\n",
       "[8 rows x 25 columns]"
      ]
     },
     "execution_count": 7,
     "metadata": {},
     "output_type": "execute_result"
    }
   ],
   "source": [
    "train_df.describe()"
   ]
  },
  {
   "cell_type": "code",
   "execution_count": 8,
   "metadata": {
    "tags": []
   },
   "outputs": [
    {
     "data": {
      "text/plain": [
       "ID                            21000.0\n",
       "LIMIT_BAL                     21000.0\n",
       "SEX                           21000.0\n",
       "EDUCATION                     21000.0\n",
       "MARRIAGE                      21000.0\n",
       "AGE                           21000.0\n",
       "PAY_0                         21000.0\n",
       "PAY_2                         21000.0\n",
       "PAY_3                         21000.0\n",
       "PAY_4                         21000.0\n",
       "PAY_5                         21000.0\n",
       "PAY_6                         21000.0\n",
       "BILL_AMT1                     21000.0\n",
       "BILL_AMT2                     21000.0\n",
       "BILL_AMT3                     21000.0\n",
       "BILL_AMT4                     21000.0\n",
       "BILL_AMT5                     21000.0\n",
       "BILL_AMT6                     21000.0\n",
       "PAY_AMT1                      21000.0\n",
       "PAY_AMT2                      21000.0\n",
       "PAY_AMT3                      21000.0\n",
       "PAY_AMT4                      21000.0\n",
       "PAY_AMT5                      21000.0\n",
       "PAY_AMT6                      21000.0\n",
       "default.payment.next.month    21000.0\n",
       "Name: count, dtype: float64"
      ]
     },
     "execution_count": 8,
     "metadata": {},
     "output_type": "execute_result"
    }
   ],
   "source": [
    "train_df.describe().loc['count']"
   ]
  },
  {
   "cell_type": "markdown",
   "metadata": {},
   "source": [
    "There is no missing data from the above information and all features are float or int."
   ]
  },
  {
   "cell_type": "code",
   "execution_count": 9,
   "metadata": {
    "tags": []
   },
   "outputs": [
    {
     "data": {
      "image/png": "[encoded data removed]",
      "text/plain": [
       "<Figure size 2000x1500 with 25 Axes>"
      ]
     },
     "metadata": {},
     "output_type": "display_data"
    }
   ],
   "source": [
    "train_df.hist(bins=50, figsize=(20, 15));"
   ]
  },
  {
   "cell_type": "markdown",
   "metadata": {},
   "source": [
    "The ID is not relevant to our task, maybe we should drop it. And we see some features are mainly focus on 0 but has huge range such as PAY_AMT3"
   ]
  },
  {
   "cell_type": "code",
   "execution_count": 10,
   "metadata": {
    "tags": []
   },
   "outputs": [],
   "source": [
    "X_train = train_df.drop(columns=[\"default.payment.next.month\"])\n",
    "y_train = train_df['default.payment.next.month']\n",
    "\n",
    "X_test = test_df.drop(columns=[\"default.payment.next.month\"])\n",
    "y_test = test_df['default.payment.next.month']"
   ]
  },
  {
   "cell_type": "code",
   "execution_count": 11,
   "metadata": {
    "tags": []
   },
   "outputs": [
    {
     "data": {
      "image/png": "[encoded data removed]",
      "text/plain": [
       "<Figure size 2000x2000 with 2 Axes>"
      ]
     },
     "metadata": {},
     "output_type": "display_data"
    }
   ],
   "source": [
    "import seaborn as sns\n",
    "cor = pd.concat((y_train, X_train), axis=1).iloc[:, :25].corr()\n",
    "plt.figure(figsize=(20, 20))\n",
    "sns.set(font_scale=.8)\n",
    "sns.heatmap(cor, annot=True, cmap=plt.cm.Blues);"
   ]
  },
  {
   "cell_type": "markdown",
   "metadata": {},
   "source": [
    "It looks like PAY_1,2,3,4,5,6 is highly correlated with each other and same as BILL_AMT1,2,3,4,5,6"
   ]
  },
  {
   "cell_type": "markdown",
   "metadata": {},
   "source": [
    "3. Summarize initial observations about the data:\n",
    "- we have all numeric features.\n",
    "- But some features have huge range, we need to scale those numeric feature values.\n",
    "- we have high correlation in some features.\n",
    "- we have not unclear data such as education, how does the value in education featuer mean?"
   ]
  },
  {
   "cell_type": "code",
   "execution_count": 12,
   "metadata": {
    "tags": []
   },
   "outputs": [
    {
     "data": {
      "text/plain": [
       "0    0.776762\n",
       "1    0.223238\n",
       "Name: default.payment.next.month, dtype: float64"
      ]
     },
     "execution_count": 12,
     "metadata": {},
     "output_type": "execute_result"
    }
   ],
   "source": [
    "train_df[\"default.payment.next.month\"].value_counts(normalize=True)"
   ]
  },
  {
   "attachments": {},
   "cell_type": "markdown",
   "metadata": {},
   "source": [
    "We have class imbalance. We have 77% non-default classes and 22% default class.\n",
    "4. we are planning to pick confusion matrix and macro recall to assessment. Because we think both classes are equally important and also false negative is more important than false positive in this case."
   ]
  },
  {
   "cell_type": "code",
   "execution_count": 13,
   "metadata": {
    "tags": []
   },
   "outputs": [
    {
     "data": {
      "text/plain": [
       "Ellipsis"
      ]
     },
     "execution_count": 13,
     "metadata": {},
     "output_type": "execute_result"
    }
   ],
   "source": [
    "..."
   ]
  },
  {
   "cell_type": "code",
   "execution_count": 14,
   "metadata": {
    "tags": []
   },
   "outputs": [
    {
     "data": {
      "text/plain": [
       "Ellipsis"
      ]
     },
     "execution_count": 14,
     "metadata": {},
     "output_type": "execute_result"
    }
   ],
   "source": [
    "..."
   ]
  },
  {
   "cell_type": "code",
   "execution_count": 15,
   "metadata": {
    "tags": []
   },
   "outputs": [
    {
     "data": {
      "text/plain": [
       "Ellipsis"
      ]
     },
     "execution_count": 15,
     "metadata": {},
     "output_type": "execute_result"
    }
   ],
   "source": [
    "..."
   ]
  },
  {
   "cell_type": "markdown",
   "metadata": {},
   "source": [
    "<!-- END QUESTION -->\n",
    "\n",
    "<br><br>"
   ]
  },
  {
   "cell_type": "markdown",
   "metadata": {},
   "source": [
    "<!-- BEGIN QUESTION -->\n",
    "\n",
    "## (Optional) 4. Feature engineering <a name=\"4\"></a>\n",
    "<hr>\n",
    "rubric={points:1}\n",
    "\n",
    "**Your tasks:**\n",
    "\n",
    "1. Carry out feature engineering. In other words, extract new features relevant for the problem and work with your new feature set in the following exercises. You may have to go back and forth between feature engineering and preprocessing. "
   ]
  },
  {
   "cell_type": "markdown",
   "metadata": {},
   "source": [
    "<div class=\"alert alert-warning\">\n",
    "    \n",
    "Solution_4\n",
    "    \n",
    "</div>"
   ]
  },
  {
   "cell_type": "markdown",
   "metadata": {},
   "source": [
    "We don't think ID is important. We are planning to drop ID firstly."
   ]
  },
  {
   "cell_type": "markdown",
   "metadata": {},
   "source": [
    "<!-- END QUESTION -->\n",
    "\n",
    "<br><br>"
   ]
  },
  {
   "cell_type": "markdown",
   "metadata": {},
   "source": [
    "<!-- BEGIN QUESTION -->\n",
    "\n",
    "## 5. Preprocessing and transformations <a name=\"5\"></a>\n",
    "<hr>\n",
    "rubric={points:10}\n",
    "\n",
    "**Your tasks:**\n",
    "\n",
    "1. Identify different feature types and the transformations you would apply on each feature type. \n",
    "2. Define a column transformer, if necessary. "
   ]
  },
  {
   "cell_type": "markdown",
   "metadata": {},
   "source": [
    "<div class=\"alert alert-warning\">\n",
    "    \n",
    "Solution_5\n",
    "    \n",
    "</div>"
   ]
  },
  {
   "cell_type": "code",
   "execution_count": 16,
   "metadata": {
    "tags": []
   },
   "outputs": [],
   "source": [
    "numeric_feats = ['AGE',\n",
    "                 'LIMIT_BAL', \n",
    "                 'PAY_0',\n",
    "                 'PAY_2',\n",
    "                 'PAY_3',\n",
    "                 'PAY_4',\n",
    "                 'PAY_5',\n",
    "                 'PAY_6',\n",
    "                 'BILL_AMT1',\n",
    "                 'BILL_AMT2',\n",
    "                 'BILL_AMT3',\n",
    "                 'BILL_AMT4',\n",
    "                 'BILL_AMT5',\n",
    "                 'BILL_AMT6',\n",
    "                 'PAY_AMT1',\n",
    "                 'PAY_AMT2',\n",
    "                 'PAY_AMT3',\n",
    "                 'PAY_AMT4',\n",
    "                 'PAY_AMT5',\n",
    "                 'PAY_AMT6']                   \n",
    "categorical_feats = ['MARRIAGE']\n",
    "ordinal_feats = ['EDUCATION']\n",
    "binary_feats = ['SEX']\n",
    "drop_feats = ['ID']\n",
    "# target = 'default.payment.next.month'"
   ]
  },
  {
   "cell_type": "code",
   "execution_count": 17,
   "metadata": {
    "tags": []
   },
   "outputs": [
    {
     "data": {
      "text/html": [
       "<style>#sk-container-id-1 {color: black;background-color: white;}#sk-container-id-1 pre{padding: 0;}#sk-container-id-1 div.sk-toggleable {background-color: white;}#sk-container-id-1 label.sk-toggleable__label {cursor: pointer;display: block;width: 100%;margin-bottom: 0;padding: 0.3em;box-sizing: border-box;text-align: center;}#sk-container-id-1 label.sk-toggleable__label-arrow:before {content: \"▸\";float: left;margin-right: 0.25em;color: #696969;}#sk-container-id-1 label.sk-toggleable__label-arrow:hover:before {color: black;}#sk-container-id-1 div.sk-estimator:hover label.sk-toggleable__label-arrow:before {color: black;}#sk-container-id-1 div.sk-toggleable__content {max-height: 0;max-width: 0;overflow: hidden;text-align: left;background-color: #f0f8ff;}#sk-container-id-1 div.sk-toggleable__content pre {margin: 0.2em;color: black;border-radius: 0.25em;background-color: #f0f8ff;}#sk-container-id-1 input.sk-toggleable__control:checked~div.sk-toggleable__content {max-height: 200px;max-width: 100%;overflow: auto;}#sk-container-id-1 input.sk-toggleable__control:checked~label.sk-toggleable__label-arrow:before {content: \"▾\";}#sk-container-id-1 div.sk-estimator input.sk-toggleable__control:checked~label.sk-toggleable__label {background-color: #d4ebff;}#sk-container-id-1 div.sk-label input.sk-toggleable__control:checked~label.sk-toggleable__label {background-color: #d4ebff;}#sk-container-id-1 input.sk-hidden--visually {border: 0;clip: rect(1px 1px 1px 1px);clip: rect(1px, 1px, 1px, 1px);height: 1px;margin: -1px;overflow: hidden;padding: 0;position: absolute;width: 1px;}#sk-container-id-1 div.sk-estimator {font-family: monospace;background-color: #f0f8ff;border: 1px dotted black;border-radius: 0.25em;box-sizing: border-box;margin-bottom: 0.5em;}#sk-container-id-1 div.sk-estimator:hover {background-color: #d4ebff;}#sk-container-id-1 div.sk-parallel-item::after {content: \"\";width: 100%;border-bottom: 1px solid gray;flex-grow: 1;}#sk-container-id-1 div.sk-label:hover label.sk-toggleable__label {background-color: #d4ebff;}#sk-container-id-1 div.sk-serial::before {content: \"\";position: absolute;border-left: 1px solid gray;box-sizing: border-box;top: 0;bottom: 0;left: 50%;z-index: 0;}#sk-container-id-1 div.sk-serial {display: flex;flex-direction: column;align-items: center;background-color: white;padding-right: 0.2em;padding-left: 0.2em;position: relative;}#sk-container-id-1 div.sk-item {position: relative;z-index: 1;}#sk-container-id-1 div.sk-parallel {display: flex;align-items: stretch;justify-content: center;background-color: white;position: relative;}#sk-container-id-1 div.sk-item::before, #sk-container-id-1 div.sk-parallel-item::before {content: \"\";position: absolute;border-left: 1px solid gray;box-sizing: border-box;top: 0;bottom: 0;left: 50%;z-index: -1;}#sk-container-id-1 div.sk-parallel-item {display: flex;flex-direction: column;z-index: 1;position: relative;background-color: white;}#sk-container-id-1 div.sk-parallel-item:first-child::after {align-self: flex-end;width: 50%;}#sk-container-id-1 div.sk-parallel-item:last-child::after {align-self: flex-start;width: 50%;}#sk-container-id-1 div.sk-parallel-item:only-child::after {width: 0;}#sk-container-id-1 div.sk-dashed-wrapped {border: 1px dashed gray;margin: 0 0.4em 0.5em 0.4em;box-sizing: border-box;padding-bottom: 0.4em;background-color: white;}#sk-container-id-1 div.sk-label label {font-family: monospace;font-weight: bold;display: inline-block;line-height: 1.2em;}#sk-container-id-1 div.sk-label-container {text-align: center;}#sk-container-id-1 div.sk-container {/* jupyter's `normalize.less` sets `[hidden] { display: none; }` but bootstrap.min.css set `[hidden] { display: none !important; }` so we also need the `!important` here to be able to override the default hidden behavior on the sphinx rendered scikit-learn.org. See: https://github.com/scikit-learn/scikit-learn/issues/21755 */display: inline-block !important;position: relative;}#sk-container-id-1 div.sk-text-repr-fallback {display: none;}</style><div id=\"sk-container-id-1\" class=\"sk-top-container\"><div class=\"sk-text-repr-fallback\"><pre>ColumnTransformer(transformers=[(&#x27;standardscaler&#x27;, StandardScaler(),\n",
       "                                 [&#x27;AGE&#x27;, &#x27;LIMIT_BAL&#x27;, &#x27;PAY_0&#x27;, &#x27;PAY_2&#x27;, &#x27;PAY_3&#x27;,\n",
       "                                  &#x27;PAY_4&#x27;, &#x27;PAY_5&#x27;, &#x27;PAY_6&#x27;, &#x27;BILL_AMT1&#x27;,\n",
       "                                  &#x27;BILL_AMT2&#x27;, &#x27;BILL_AMT3&#x27;, &#x27;BILL_AMT4&#x27;,\n",
       "                                  &#x27;BILL_AMT5&#x27;, &#x27;BILL_AMT6&#x27;, &#x27;PAY_AMT1&#x27;,\n",
       "                                  &#x27;PAY_AMT2&#x27;, &#x27;PAY_AMT3&#x27;, &#x27;PAY_AMT4&#x27;,\n",
       "                                  &#x27;PAY_AMT5&#x27;, &#x27;PAY_AMT6&#x27;]),\n",
       "                                (&#x27;onehotencoder-1&#x27;,\n",
       "                                 OneHotEncoder(handle_unknown=&#x27;ignore&#x27;),\n",
       "                                 [&#x27;MARRIAGE&#x27;]),\n",
       "                                (&#x27;ordinalencoder&#x27;, OrdinalEncoder(),\n",
       "                                 [&#x27;EDUCATION&#x27;]),\n",
       "                                (&#x27;onehotencoder-2&#x27;,\n",
       "                                 OneHotEncoder(drop=&#x27;if_binary&#x27;,\n",
       "                                               dtype=&lt;class &#x27;int&#x27;&gt;,\n",
       "                                               sparse=False),\n",
       "                                 [&#x27;SEX&#x27;]),\n",
       "                                (&#x27;drop&#x27;, &#x27;drop&#x27;, [&#x27;ID&#x27;])])</pre><b>In a Jupyter environment, please rerun this cell to show the HTML representation or trust the notebook. <br />On GitHub, the HTML representation is unable to render, please try loading this page with nbviewer.org.</b></div><div class=\"sk-container\" hidden><div class=\"sk-item sk-dashed-wrapped\"><div class=\"sk-label-container\"><div class=\"sk-label sk-toggleable\"><input class=\"sk-toggleable__control sk-hidden--visually\" id=\"sk-estimator-id-1\" type=\"checkbox\" ><label for=\"sk-estimator-id-1\" class=\"sk-toggleable__label sk-toggleable__label-arrow\">ColumnTransformer</label><div class=\"sk-toggleable__content\"><pre>ColumnTransformer(transformers=[(&#x27;standardscaler&#x27;, StandardScaler(),\n",
       "                                 [&#x27;AGE&#x27;, &#x27;LIMIT_BAL&#x27;, &#x27;PAY_0&#x27;, &#x27;PAY_2&#x27;, &#x27;PAY_3&#x27;,\n",
       "                                  &#x27;PAY_4&#x27;, &#x27;PAY_5&#x27;, &#x27;PAY_6&#x27;, &#x27;BILL_AMT1&#x27;,\n",
       "                                  &#x27;BILL_AMT2&#x27;, &#x27;BILL_AMT3&#x27;, &#x27;BILL_AMT4&#x27;,\n",
       "                                  &#x27;BILL_AMT5&#x27;, &#x27;BILL_AMT6&#x27;, &#x27;PAY_AMT1&#x27;,\n",
       "                                  &#x27;PAY_AMT2&#x27;, &#x27;PAY_AMT3&#x27;, &#x27;PAY_AMT4&#x27;,\n",
       "                                  &#x27;PAY_AMT5&#x27;, &#x27;PAY_AMT6&#x27;]),\n",
       "                                (&#x27;onehotencoder-1&#x27;,\n",
       "                                 OneHotEncoder(handle_unknown=&#x27;ignore&#x27;),\n",
       "                                 [&#x27;MARRIAGE&#x27;]),\n",
       "                                (&#x27;ordinalencoder&#x27;, OrdinalEncoder(),\n",
       "                                 [&#x27;EDUCATION&#x27;]),\n",
       "                                (&#x27;onehotencoder-2&#x27;,\n",
       "                                 OneHotEncoder(drop=&#x27;if_binary&#x27;,\n",
       "                                               dtype=&lt;class &#x27;int&#x27;&gt;,\n",
       "                                               sparse=False),\n",
       "                                 [&#x27;SEX&#x27;]),\n",
       "                                (&#x27;drop&#x27;, &#x27;drop&#x27;, [&#x27;ID&#x27;])])</pre></div></div></div><div class=\"sk-parallel\"><div class=\"sk-parallel-item\"><div class=\"sk-item\"><div class=\"sk-label-container\"><div class=\"sk-label sk-toggleable\"><input class=\"sk-toggleable__control sk-hidden--visually\" id=\"sk-estimator-id-2\" type=\"checkbox\" ><label for=\"sk-estimator-id-2\" class=\"sk-toggleable__label sk-toggleable__label-arrow\">standardscaler</label><div class=\"sk-toggleable__content\"><pre>[&#x27;AGE&#x27;, &#x27;LIMIT_BAL&#x27;, &#x27;PAY_0&#x27;, &#x27;PAY_2&#x27;, &#x27;PAY_3&#x27;, &#x27;PAY_4&#x27;, &#x27;PAY_5&#x27;, &#x27;PAY_6&#x27;, &#x27;BILL_AMT1&#x27;, &#x27;BILL_AMT2&#x27;, &#x27;BILL_AMT3&#x27;, &#x27;BILL_AMT4&#x27;, &#x27;BILL_AMT5&#x27;, &#x27;BILL_AMT6&#x27;, &#x27;PAY_AMT1&#x27;, &#x27;PAY_AMT2&#x27;, &#x27;PAY_AMT3&#x27;, &#x27;PAY_AMT4&#x27;, &#x27;PAY_AMT5&#x27;, &#x27;PAY_AMT6&#x27;]</pre></div></div></div><div class=\"sk-serial\"><div class=\"sk-item\"><div class=\"sk-estimator sk-toggleable\"><input class=\"sk-toggleable__control sk-hidden--visually\" id=\"sk-estimator-id-3\" type=\"checkbox\" ><label for=\"sk-estimator-id-3\" class=\"sk-toggleable__label sk-toggleable__label-arrow\">StandardScaler</label><div class=\"sk-toggleable__content\"><pre>StandardScaler()</pre></div></div></div></div></div></div><div class=\"sk-parallel-item\"><div class=\"sk-item\"><div class=\"sk-label-container\"><div class=\"sk-label sk-toggleable\"><input class=\"sk-toggleable__control sk-hidden--visually\" id=\"sk-estimator-id-4\" type=\"checkbox\" ><label for=\"sk-estimator-id-4\" class=\"sk-toggleable__label sk-toggleable__label-arrow\">onehotencoder-1</label><div class=\"sk-toggleable__content\"><pre>[&#x27;MARRIAGE&#x27;]</pre></div></div></div><div class=\"sk-serial\"><div class=\"sk-item\"><div class=\"sk-estimator sk-toggleable\"><input class=\"sk-toggleable__control sk-hidden--visually\" id=\"sk-estimator-id-5\" type=\"checkbox\" ><label for=\"sk-estimator-id-5\" class=\"sk-toggleable__label sk-toggleable__label-arrow\">OneHotEncoder</label><div class=\"sk-toggleable__content\"><pre>OneHotEncoder(handle_unknown=&#x27;ignore&#x27;)</pre></div></div></div></div></div></div><div class=\"sk-parallel-item\"><div class=\"sk-item\"><div class=\"sk-label-container\"><div class=\"sk-label sk-toggleable\"><input class=\"sk-toggleable__control sk-hidden--visually\" id=\"sk-estimator-id-6\" type=\"checkbox\" ><label for=\"sk-estimator-id-6\" class=\"sk-toggleable__label sk-toggleable__label-arrow\">ordinalencoder</label><div class=\"sk-toggleable__content\"><pre>[&#x27;EDUCATION&#x27;]</pre></div></div></div><div class=\"sk-serial\"><div class=\"sk-item\"><div class=\"sk-estimator sk-toggleable\"><input class=\"sk-toggleable__control sk-hidden--visually\" id=\"sk-estimator-id-7\" type=\"checkbox\" ><label for=\"sk-estimator-id-7\" class=\"sk-toggleable__label sk-toggleable__label-arrow\">OrdinalEncoder</label><div class=\"sk-toggleable__content\"><pre>OrdinalEncoder()</pre></div></div></div></div></div></div><div class=\"sk-parallel-item\"><div class=\"sk-item\"><div class=\"sk-label-container\"><div class=\"sk-label sk-toggleable\"><input class=\"sk-toggleable__control sk-hidden--visually\" id=\"sk-estimator-id-8\" type=\"checkbox\" ><label for=\"sk-estimator-id-8\" class=\"sk-toggleable__label sk-toggleable__label-arrow\">onehotencoder-2</label><div class=\"sk-toggleable__content\"><pre>[&#x27;SEX&#x27;]</pre></div></div></div><div class=\"sk-serial\"><div class=\"sk-item\"><div class=\"sk-estimator sk-toggleable\"><input class=\"sk-toggleable__control sk-hidden--visually\" id=\"sk-estimator-id-9\" type=\"checkbox\" ><label for=\"sk-estimator-id-9\" class=\"sk-toggleable__label sk-toggleable__label-arrow\">OneHotEncoder</label><div class=\"sk-toggleable__content\"><pre>OneHotEncoder(drop=&#x27;if_binary&#x27;, dtype=&lt;class &#x27;int&#x27;&gt;, sparse=False)</pre></div></div></div></div></div></div><div class=\"sk-parallel-item\"><div class=\"sk-item\"><div class=\"sk-label-container\"><div class=\"sk-label sk-toggleable\"><input class=\"sk-toggleable__control sk-hidden--visually\" id=\"sk-estimator-id-10\" type=\"checkbox\" ><label for=\"sk-estimator-id-10\" class=\"sk-toggleable__label sk-toggleable__label-arrow\">drop</label><div class=\"sk-toggleable__content\"><pre>[&#x27;ID&#x27;]</pre></div></div></div><div class=\"sk-serial\"><div class=\"sk-item\"><div class=\"sk-estimator sk-toggleable\"><input class=\"sk-toggleable__control sk-hidden--visually\" id=\"sk-estimator-id-11\" type=\"checkbox\" ><label for=\"sk-estimator-id-11\" class=\"sk-toggleable__label sk-toggleable__label-arrow\">drop</label><div class=\"sk-toggleable__content\"><pre>drop</pre></div></div></div></div></div></div></div></div></div></div>"
      ],
      "text/plain": [
       "ColumnTransformer(transformers=[('standardscaler', StandardScaler(),\n",
       "                                 ['AGE', 'LIMIT_BAL', 'PAY_0', 'PAY_2', 'PAY_3',\n",
       "                                  'PAY_4', 'PAY_5', 'PAY_6', 'BILL_AMT1',\n",
       "                                  'BILL_AMT2', 'BILL_AMT3', 'BILL_AMT4',\n",
       "                                  'BILL_AMT5', 'BILL_AMT6', 'PAY_AMT1',\n",
       "                                  'PAY_AMT2', 'PAY_AMT3', 'PAY_AMT4',\n",
       "                                  'PAY_AMT5', 'PAY_AMT6']),\n",
       "                                ('onehotencoder-1',\n",
       "                                 OneHotEncoder(handle_unknown='ignore'),\n",
       "                                 ['MARRIAGE']),\n",
       "                                ('ordinalencoder', OrdinalEncoder(),\n",
       "                                 ['EDUCATION']),\n",
       "                                ('onehotencoder-2',\n",
       "                                 OneHotEncoder(drop='if_binary',\n",
       "                                               dtype=<class 'int'>,\n",
       "                                               sparse=False),\n",
       "                                 ['SEX']),\n",
       "                                ('drop', 'drop', ['ID'])])"
      ]
     },
     "execution_count": 17,
     "metadata": {},
     "output_type": "execute_result"
    }
   ],
   "source": [
    "ct = make_column_transformer(\n",
    "    (StandardScaler(), numeric_feats),\n",
    "    (OneHotEncoder(handle_unknown='ignore'), categorical_feats),\n",
    "    (OrdinalEncoder(), ordinal_feats),\n",
    "    (OneHotEncoder(drop='if_binary', dtype=int, sparse=False), binary_feats),\n",
    "    (\"drop\", drop_feats)\n",
    ")\n",
    "ct"
   ]
  },
  {
   "cell_type": "code",
   "execution_count": 18,
   "metadata": {
    "tags": []
   },
   "outputs": [
    {
     "data": {
      "text/plain": [
       "['AGE',\n",
       " 'LIMIT_BAL',\n",
       " 'PAY_0',\n",
       " 'PAY_2',\n",
       " 'PAY_3',\n",
       " 'PAY_4',\n",
       " 'PAY_5',\n",
       " 'PAY_6',\n",
       " 'BILL_AMT1',\n",
       " 'BILL_AMT2',\n",
       " 'BILL_AMT3',\n",
       " 'BILL_AMT4',\n",
       " 'BILL_AMT5',\n",
       " 'BILL_AMT6',\n",
       " 'PAY_AMT1',\n",
       " 'PAY_AMT2',\n",
       " 'PAY_AMT3',\n",
       " 'PAY_AMT4',\n",
       " 'PAY_AMT5',\n",
       " 'PAY_AMT6',\n",
       " 'MARRIAGE_0',\n",
       " 'MARRIAGE_1',\n",
       " 'MARRIAGE_2',\n",
       " 'MARRIAGE_3',\n",
       " 'EDUCATION',\n",
       " 'SEX']"
      ]
     },
     "execution_count": 18,
     "metadata": {},
     "output_type": "execute_result"
    }
   ],
   "source": [
    "X_transformed = ct.fit_transform(X_train)\n",
    "column_names = (numeric_feats + \n",
    "                ct.named_transformers_['onehotencoder-1'].get_feature_names_out().tolist()\n",
    "                 + ordinal_feats + binary_feats)\n",
    "column_names"
   ]
  },
  {
   "cell_type": "code",
   "execution_count": 19,
   "metadata": {},
   "outputs": [
    {
     "data": {
      "text/html": [
       "<div>\n",
       "<style scoped>\n",
       "    .dataframe tbody tr th:only-of-type {\n",
       "        vertical-align: middle;\n",
       "    }\n",
       "\n",
       "    .dataframe tbody tr th {\n",
       "        vertical-align: top;\n",
       "    }\n",
       "\n",
       "    .dataframe thead th {\n",
       "        text-align: right;\n",
       "    }\n",
       "</style>\n",
       "<table border=\"1\" class=\"dataframe\">\n",
       "  <thead>\n",
       "    <tr style=\"text-align: right;\">\n",
       "      <th></th>\n",
       "      <th>AGE</th>\n",
       "      <th>LIMIT_BAL</th>\n",
       "      <th>PAY_0</th>\n",
       "      <th>PAY_2</th>\n",
       "      <th>PAY_3</th>\n",
       "      <th>PAY_4</th>\n",
       "      <th>PAY_5</th>\n",
       "      <th>PAY_6</th>\n",
       "      <th>BILL_AMT1</th>\n",
       "      <th>BILL_AMT2</th>\n",
       "      <th>...</th>\n",
       "      <th>PAY_AMT3</th>\n",
       "      <th>PAY_AMT4</th>\n",
       "      <th>PAY_AMT5</th>\n",
       "      <th>PAY_AMT6</th>\n",
       "      <th>MARRIAGE_0</th>\n",
       "      <th>MARRIAGE_1</th>\n",
       "      <th>MARRIAGE_2</th>\n",
       "      <th>MARRIAGE_3</th>\n",
       "      <th>EDUCATION</th>\n",
       "      <th>SEX</th>\n",
       "    </tr>\n",
       "  </thead>\n",
       "  <tbody>\n",
       "    <tr>\n",
       "      <th>0</th>\n",
       "      <td>0.054187</td>\n",
       "      <td>1.168355</td>\n",
       "      <td>0.013770</td>\n",
       "      <td>0.114774</td>\n",
       "      <td>0.143483</td>\n",
       "      <td>0.192754</td>\n",
       "      <td>0.232531</td>\n",
       "      <td>0.257059</td>\n",
       "      <td>-0.300665</td>\n",
       "      <td>-0.293394</td>\n",
       "      <td>...</td>\n",
       "      <td>-0.234603</td>\n",
       "      <td>-0.114944</td>\n",
       "      <td>-0.312050</td>\n",
       "      <td>0.097991</td>\n",
       "      <td>0.0</td>\n",
       "      <td>0.0</td>\n",
       "      <td>1.0</td>\n",
       "      <td>0.0</td>\n",
       "      <td>1.0</td>\n",
       "      <td>1.0</td>\n",
       "    </tr>\n",
       "    <tr>\n",
       "      <th>1</th>\n",
       "      <td>-0.597108</td>\n",
       "      <td>2.090017</td>\n",
       "      <td>-0.878738</td>\n",
       "      <td>-0.722412</td>\n",
       "      <td>-0.692571</td>\n",
       "      <td>0.192754</td>\n",
       "      <td>0.232531</td>\n",
       "      <td>0.257059</td>\n",
       "      <td>-0.685307</td>\n",
       "      <td>-0.679495</td>\n",
       "      <td>...</td>\n",
       "      <td>6.785208</td>\n",
       "      <td>-0.113778</td>\n",
       "      <td>0.672988</td>\n",
       "      <td>2.562606</td>\n",
       "      <td>0.0</td>\n",
       "      <td>0.0</td>\n",
       "      <td>1.0</td>\n",
       "      <td>0.0</td>\n",
       "      <td>1.0</td>\n",
       "      <td>1.0</td>\n",
       "    </tr>\n",
       "    <tr>\n",
       "      <th>2</th>\n",
       "      <td>0.922579</td>\n",
       "      <td>-0.060527</td>\n",
       "      <td>-1.771246</td>\n",
       "      <td>-1.559598</td>\n",
       "      <td>-1.528626</td>\n",
       "      <td>-1.518801</td>\n",
       "      <td>-1.526210</td>\n",
       "      <td>-1.485154</td>\n",
       "      <td>-0.696132</td>\n",
       "      <td>-0.688319</td>\n",
       "      <td>...</td>\n",
       "      <td>-0.289017</td>\n",
       "      <td>-0.309323</td>\n",
       "      <td>-0.312050</td>\n",
       "      <td>-0.289117</td>\n",
       "      <td>0.0</td>\n",
       "      <td>1.0</td>\n",
       "      <td>0.0</td>\n",
       "      <td>0.0</td>\n",
       "      <td>3.0</td>\n",
       "      <td>1.0</td>\n",
       "    </tr>\n",
       "    <tr>\n",
       "      <th>3</th>\n",
       "      <td>-0.597108</td>\n",
       "      <td>-0.367748</td>\n",
       "      <td>0.013770</td>\n",
       "      <td>0.114774</td>\n",
       "      <td>0.143483</td>\n",
       "      <td>0.192754</td>\n",
       "      <td>0.232531</td>\n",
       "      <td>0.257059</td>\n",
       "      <td>0.687456</td>\n",
       "      <td>0.752583</td>\n",
       "      <td>...</td>\n",
       "      <td>-0.060260</td>\n",
       "      <td>-0.113843</td>\n",
       "      <td>-0.180384</td>\n",
       "      <td>-0.195169</td>\n",
       "      <td>0.0</td>\n",
       "      <td>1.0</td>\n",
       "      <td>0.0</td>\n",
       "      <td>0.0</td>\n",
       "      <td>2.0</td>\n",
       "      <td>1.0</td>\n",
       "    </tr>\n",
       "    <tr>\n",
       "      <th>4</th>\n",
       "      <td>2.008070</td>\n",
       "      <td>-0.905384</td>\n",
       "      <td>0.906278</td>\n",
       "      <td>1.789147</td>\n",
       "      <td>0.143483</td>\n",
       "      <td>0.192754</td>\n",
       "      <td>0.232531</td>\n",
       "      <td>0.257059</td>\n",
       "      <td>-0.040230</td>\n",
       "      <td>-0.031399</td>\n",
       "      <td>...</td>\n",
       "      <td>-0.223720</td>\n",
       "      <td>-0.212134</td>\n",
       "      <td>-0.246381</td>\n",
       "      <td>-0.206319</td>\n",
       "      <td>0.0</td>\n",
       "      <td>0.0</td>\n",
       "      <td>1.0</td>\n",
       "      <td>0.0</td>\n",
       "      <td>2.0</td>\n",
       "      <td>0.0</td>\n",
       "    </tr>\n",
       "    <tr>\n",
       "      <th>...</th>\n",
       "      <td>...</td>\n",
       "      <td>...</td>\n",
       "      <td>...</td>\n",
       "      <td>...</td>\n",
       "      <td>...</td>\n",
       "      <td>...</td>\n",
       "      <td>...</td>\n",
       "      <td>...</td>\n",
       "      <td>...</td>\n",
       "      <td>...</td>\n",
       "      <td>...</td>\n",
       "      <td>...</td>\n",
       "      <td>...</td>\n",
       "      <td>...</td>\n",
       "      <td>...</td>\n",
       "      <td>...</td>\n",
       "      <td>...</td>\n",
       "      <td>...</td>\n",
       "      <td>...</td>\n",
       "      <td>...</td>\n",
       "      <td>...</td>\n",
       "    </tr>\n",
       "    <tr>\n",
       "      <th>20995</th>\n",
       "      <td>0.162736</td>\n",
       "      <td>1.629186</td>\n",
       "      <td>0.013770</td>\n",
       "      <td>0.114774</td>\n",
       "      <td>0.143483</td>\n",
       "      <td>0.192754</td>\n",
       "      <td>0.232531</td>\n",
       "      <td>1.999273</td>\n",
       "      <td>-0.513226</td>\n",
       "      <td>-0.486648</td>\n",
       "      <td>...</td>\n",
       "      <td>-0.221435</td>\n",
       "      <td>-0.186216</td>\n",
       "      <td>-0.312050</td>\n",
       "      <td>-0.123521</td>\n",
       "      <td>0.0</td>\n",
       "      <td>1.0</td>\n",
       "      <td>0.0</td>\n",
       "      <td>0.0</td>\n",
       "      <td>2.0</td>\n",
       "      <td>1.0</td>\n",
       "    </tr>\n",
       "    <tr>\n",
       "      <th>20996</th>\n",
       "      <td>2.008070</td>\n",
       "      <td>1.475576</td>\n",
       "      <td>0.906278</td>\n",
       "      <td>-1.559598</td>\n",
       "      <td>-1.528626</td>\n",
       "      <td>-0.663024</td>\n",
       "      <td>0.232531</td>\n",
       "      <td>-0.614047</td>\n",
       "      <td>-0.695886</td>\n",
       "      <td>-0.688067</td>\n",
       "      <td>...</td>\n",
       "      <td>-0.148629</td>\n",
       "      <td>-0.309323</td>\n",
       "      <td>0.143760</td>\n",
       "      <td>-0.289117</td>\n",
       "      <td>0.0</td>\n",
       "      <td>1.0</td>\n",
       "      <td>0.0</td>\n",
       "      <td>0.0</td>\n",
       "      <td>1.0</td>\n",
       "      <td>1.0</td>\n",
       "    </tr>\n",
       "    <tr>\n",
       "      <th>20997</th>\n",
       "      <td>-0.705657</td>\n",
       "      <td>-0.905384</td>\n",
       "      <td>0.013770</td>\n",
       "      <td>0.114774</td>\n",
       "      <td>0.143483</td>\n",
       "      <td>0.192754</td>\n",
       "      <td>0.232531</td>\n",
       "      <td>0.257059</td>\n",
       "      <td>-0.053288</td>\n",
       "      <td>-0.010446</td>\n",
       "      <td>...</td>\n",
       "      <td>-0.205764</td>\n",
       "      <td>-0.244530</td>\n",
       "      <td>-0.290577</td>\n",
       "      <td>-0.270957</td>\n",
       "      <td>0.0</td>\n",
       "      <td>1.0</td>\n",
       "      <td>0.0</td>\n",
       "      <td>0.0</td>\n",
       "      <td>3.0</td>\n",
       "      <td>1.0</td>\n",
       "    </tr>\n",
       "    <tr>\n",
       "      <th>20998</th>\n",
       "      <td>-1.574049</td>\n",
       "      <td>-1.058995</td>\n",
       "      <td>0.013770</td>\n",
       "      <td>0.114774</td>\n",
       "      <td>0.143483</td>\n",
       "      <td>0.192754</td>\n",
       "      <td>0.232531</td>\n",
       "      <td>0.257059</td>\n",
       "      <td>-0.309066</td>\n",
       "      <td>-0.288478</td>\n",
       "      <td>...</td>\n",
       "      <td>-0.180189</td>\n",
       "      <td>-0.194963</td>\n",
       "      <td>-0.290314</td>\n",
       "      <td>-0.289117</td>\n",
       "      <td>0.0</td>\n",
       "      <td>0.0</td>\n",
       "      <td>1.0</td>\n",
       "      <td>0.0</td>\n",
       "      <td>2.0</td>\n",
       "      <td>1.0</td>\n",
       "    </tr>\n",
       "    <tr>\n",
       "      <th>20999</th>\n",
       "      <td>0.054187</td>\n",
       "      <td>1.552381</td>\n",
       "      <td>-1.771246</td>\n",
       "      <td>-1.559598</td>\n",
       "      <td>-1.528626</td>\n",
       "      <td>-1.518801</td>\n",
       "      <td>-1.526210</td>\n",
       "      <td>-1.485154</td>\n",
       "      <td>-0.657925</td>\n",
       "      <td>-0.326854</td>\n",
       "      <td>...</td>\n",
       "      <td>-0.054764</td>\n",
       "      <td>-0.067192</td>\n",
       "      <td>-0.161668</td>\n",
       "      <td>0.939548</td>\n",
       "      <td>0.0</td>\n",
       "      <td>1.0</td>\n",
       "      <td>0.0</td>\n",
       "      <td>0.0</td>\n",
       "      <td>1.0</td>\n",
       "      <td>1.0</td>\n",
       "    </tr>\n",
       "  </tbody>\n",
       "</table>\n",
       "<p>21000 rows × 26 columns</p>\n",
       "</div>"
      ],
      "text/plain": [
       "            AGE  LIMIT_BAL     PAY_0     PAY_2     PAY_3     PAY_4     PAY_5  \\\n",
       "0      0.054187   1.168355  0.013770  0.114774  0.143483  0.192754  0.232531   \n",
       "1     -0.597108   2.090017 -0.878738 -0.722412 -0.692571  0.192754  0.232531   \n",
       "2      0.922579  -0.060527 -1.771246 -1.559598 -1.528626 -1.518801 -1.526210   \n",
       "3     -0.597108  -0.367748  0.013770  0.114774  0.143483  0.192754  0.232531   \n",
       "4      2.008070  -0.905384  0.906278  1.789147  0.143483  0.192754  0.232531   \n",
       "...         ...        ...       ...       ...       ...       ...       ...   \n",
       "20995  0.162736   1.629186  0.013770  0.114774  0.143483  0.192754  0.232531   \n",
       "20996  2.008070   1.475576  0.906278 -1.559598 -1.528626 -0.663024  0.232531   \n",
       "20997 -0.705657  -0.905384  0.013770  0.114774  0.143483  0.192754  0.232531   \n",
       "20998 -1.574049  -1.058995  0.013770  0.114774  0.143483  0.192754  0.232531   \n",
       "20999  0.054187   1.552381 -1.771246 -1.559598 -1.528626 -1.518801 -1.526210   \n",
       "\n",
       "          PAY_6  BILL_AMT1  BILL_AMT2  ...  PAY_AMT3  PAY_AMT4  PAY_AMT5  \\\n",
       "0      0.257059  -0.300665  -0.293394  ... -0.234603 -0.114944 -0.312050   \n",
       "1      0.257059  -0.685307  -0.679495  ...  6.785208 -0.113778  0.672988   \n",
       "2     -1.485154  -0.696132  -0.688319  ... -0.289017 -0.309323 -0.312050   \n",
       "3      0.257059   0.687456   0.752583  ... -0.060260 -0.113843 -0.180384   \n",
       "4      0.257059  -0.040230  -0.031399  ... -0.223720 -0.212134 -0.246381   \n",
       "...         ...        ...        ...  ...       ...       ...       ...   \n",
       "20995  1.999273  -0.513226  -0.486648  ... -0.221435 -0.186216 -0.312050   \n",
       "20996 -0.614047  -0.695886  -0.688067  ... -0.148629 -0.309323  0.143760   \n",
       "20997  0.257059  -0.053288  -0.010446  ... -0.205764 -0.244530 -0.290577   \n",
       "20998  0.257059  -0.309066  -0.288478  ... -0.180189 -0.194963 -0.290314   \n",
       "20999 -1.485154  -0.657925  -0.326854  ... -0.054764 -0.067192 -0.161668   \n",
       "\n",
       "       PAY_AMT6  MARRIAGE_0  MARRIAGE_1  MARRIAGE_2  MARRIAGE_3  EDUCATION  \\\n",
       "0      0.097991         0.0         0.0         1.0         0.0        1.0   \n",
       "1      2.562606         0.0         0.0         1.0         0.0        1.0   \n",
       "2     -0.289117         0.0         1.0         0.0         0.0        3.0   \n",
       "3     -0.195169         0.0         1.0         0.0         0.0        2.0   \n",
       "4     -0.206319         0.0         0.0         1.0         0.0        2.0   \n",
       "...         ...         ...         ...         ...         ...        ...   \n",
       "20995 -0.123521         0.0         1.0         0.0         0.0        2.0   \n",
       "20996 -0.289117         0.0         1.0         0.0         0.0        1.0   \n",
       "20997 -0.270957         0.0         1.0         0.0         0.0        3.0   \n",
       "20998 -0.289117         0.0         0.0         1.0         0.0        2.0   \n",
       "20999  0.939548         0.0         1.0         0.0         0.0        1.0   \n",
       "\n",
       "       SEX  \n",
       "0      1.0  \n",
       "1      1.0  \n",
       "2      1.0  \n",
       "3      1.0  \n",
       "4      0.0  \n",
       "...    ...  \n",
       "20995  1.0  \n",
       "20996  1.0  \n",
       "20997  1.0  \n",
       "20998  1.0  \n",
       "20999  1.0  \n",
       "\n",
       "[21000 rows x 26 columns]"
      ]
     },
     "execution_count": 19,
     "metadata": {},
     "output_type": "execute_result"
    }
   ],
   "source": [
    "preprocess_df = pd.DataFrame(X_transformed, columns=column_names)\n",
    "preprocess_df"
   ]
  },
  {
   "cell_type": "code",
   "execution_count": 20,
   "metadata": {},
   "outputs": [],
   "source": [
    "#adapted from lecture 3\n",
    "def mean_std_cross_val_scores(model, X_train, y_train, **kwargs):\n",
    "    \"\"\"\n",
    "    Returns mean and std of cross validation\n",
    "    \"\"\"\n",
    "    scores = cross_validate(model, X_train, y_train, **kwargs)\n",
    "\n",
    "    mean_scores = pd.DataFrame(scores).mean()\n",
    "    std_scores = pd.DataFrame(scores).std()\n",
    "    out_col = []\n",
    "\n",
    "    for i in range(len(mean_scores)):\n",
    "        out_col.append((f\"%0.3f (+/- %0.3f)\" % (mean_scores[i], std_scores[i])))\n",
    "\n",
    "    return pd.Series(data=out_col, index=mean_scores.index)"
   ]
  },
  {
   "cell_type": "markdown",
   "metadata": {},
   "source": [
    "<!-- END QUESTION -->\n",
    "\n",
    "<br><br>"
   ]
  },
  {
   "cell_type": "markdown",
   "metadata": {},
   "source": [
    "<!-- BEGIN QUESTION -->\n",
    "\n",
    "## 6. Baseline model <a name=\"6\"></a>\n",
    "<hr>\n",
    "rubric={points:2}\n",
    "\n",
    "**Your tasks:**\n",
    "1. Try `scikit-learn`'s baseline model and report results."
   ]
  },
  {
   "cell_type": "markdown",
   "metadata": {},
   "source": [
    "<div class=\"alert alert-warning\">\n",
    "    \n",
    "Solution_6\n",
    "    \n",
    "</div>"
   ]
  },
  {
   "cell_type": "code",
   "execution_count": 21,
   "metadata": {},
   "outputs": [],
   "source": [
    "from sklearn.metrics import make_scorer, recall_score\n",
    "\n",
    "target_score = make_scorer(recall_score, average=\"macro\")"
   ]
  },
  {
   "cell_type": "code",
   "execution_count": 22,
   "metadata": {},
   "outputs": [],
   "source": [
    "results = {}"
   ]
  },
  {
   "cell_type": "code",
   "execution_count": 23,
   "metadata": {
    "tags": []
   },
   "outputs": [
    {
     "data": {
      "text/html": [
       "<div>\n",
       "<style scoped>\n",
       "    .dataframe tbody tr th:only-of-type {\n",
       "        vertical-align: middle;\n",
       "    }\n",
       "\n",
       "    .dataframe tbody tr th {\n",
       "        vertical-align: top;\n",
       "    }\n",
       "\n",
       "    .dataframe thead th {\n",
       "        text-align: right;\n",
       "    }\n",
       "</style>\n",
       "<table border=\"1\" class=\"dataframe\">\n",
       "  <thead>\n",
       "    <tr style=\"text-align: right;\">\n",
       "      <th></th>\n",
       "      <th>fit_time</th>\n",
       "      <th>score_time</th>\n",
       "      <th>test_score</th>\n",
       "      <th>train_score</th>\n",
       "    </tr>\n",
       "  </thead>\n",
       "  <tbody>\n",
       "    <tr>\n",
       "      <th>Dummy</th>\n",
       "      <td>0.003 (+/- 0.002)</td>\n",
       "      <td>0.001 (+/- 0.000)</td>\n",
       "      <td>0.777 (+/- 0.000)</td>\n",
       "      <td>0.777 (+/- 0.000)</td>\n",
       "    </tr>\n",
       "  </tbody>\n",
       "</table>\n",
       "</div>"
      ],
      "text/plain": [
       "                fit_time         score_time         test_score  \\\n",
       "Dummy  0.003 (+/- 0.002)  0.001 (+/- 0.000)  0.777 (+/- 0.000)   \n",
       "\n",
       "             train_score  \n",
       "Dummy  0.777 (+/- 0.000)  "
      ]
     },
     "execution_count": 23,
     "metadata": {},
     "output_type": "execute_result"
    }
   ],
   "source": [
    "# adapted from lecture 7\n",
    "dummy = DummyClassifier()\n",
    "results[\"Dummy\"] = mean_std_cross_val_scores(dummy, X_train, y_train, return_train_score=True)\n",
    "pd.DataFrame(results).T\n",
    "#our first baseline model is dummy classifier because our problem is a classification problem of predicting whether a credit card client will default or not."
   ]
  },
  {
   "attachments": {},
   "cell_type": "markdown",
   "metadata": {},
   "source": [
    "The dummy result shows that we have around 77% are non-default classes and 22% default class."
   ]
  },
  {
   "cell_type": "code",
   "execution_count": 24,
   "metadata": {
    "tags": []
   },
   "outputs": [
    {
     "data": {
      "text/html": [
       "<div>\n",
       "<style scoped>\n",
       "    .dataframe tbody tr th:only-of-type {\n",
       "        vertical-align: middle;\n",
       "    }\n",
       "\n",
       "    .dataframe tbody tr th {\n",
       "        vertical-align: top;\n",
       "    }\n",
       "\n",
       "    .dataframe thead th {\n",
       "        text-align: right;\n",
       "    }\n",
       "</style>\n",
       "<table border=\"1\" class=\"dataframe\">\n",
       "  <thead>\n",
       "    <tr style=\"text-align: right;\">\n",
       "      <th></th>\n",
       "      <th>fit_time</th>\n",
       "      <th>score_time</th>\n",
       "      <th>test_score</th>\n",
       "      <th>train_score</th>\n",
       "    </tr>\n",
       "  </thead>\n",
       "  <tbody>\n",
       "    <tr>\n",
       "      <th>Dummy</th>\n",
       "      <td>0.003 (+/- 0.002)</td>\n",
       "      <td>0.001 (+/- 0.000)</td>\n",
       "      <td>0.777 (+/- 0.000)</td>\n",
       "      <td>0.777 (+/- 0.000)</td>\n",
       "    </tr>\n",
       "    <tr>\n",
       "      <th>Dummy (recall)</th>\n",
       "      <td>0.003 (+/- 0.001)</td>\n",
       "      <td>0.002 (+/- 0.000)</td>\n",
       "      <td>0.500 (+/- 0.000)</td>\n",
       "      <td>NaN</td>\n",
       "    </tr>\n",
       "  </tbody>\n",
       "</table>\n",
       "</div>"
      ],
      "text/plain": [
       "                         fit_time         score_time         test_score  \\\n",
       "Dummy           0.003 (+/- 0.002)  0.001 (+/- 0.000)  0.777 (+/- 0.000)   \n",
       "Dummy (recall)  0.003 (+/- 0.001)  0.002 (+/- 0.000)  0.500 (+/- 0.000)   \n",
       "\n",
       "                      train_score  \n",
       "Dummy           0.777 (+/- 0.000)  \n",
       "Dummy (recall)                NaN  "
      ]
     },
     "execution_count": 24,
     "metadata": {},
     "output_type": "execute_result"
    }
   ],
   "source": [
    "results[\"Dummy (recall)\"] = mean_std_cross_val_scores(dummy, X_train, y_train, scoring=target_score)\n",
    "pd.DataFrame(results).T"
   ]
  },
  {
   "cell_type": "code",
   "execution_count": null,
   "metadata": {
    "tags": []
   },
   "outputs": [],
   "source": []
  },
  {
   "cell_type": "markdown",
   "metadata": {},
   "source": [
    "<!-- END QUESTION -->\n",
    "\n"
   ]
  },
  {
   "cell_type": "markdown",
   "metadata": {},
   "source": [
    "<br><br>"
   ]
  },
  {
   "cell_type": "markdown",
   "metadata": {},
   "source": [
    "<!-- BEGIN QUESTION -->\n",
    "\n",
    "## 7. Linear models <a name=\"7\"></a>\n",
    "<hr>\n",
    "rubric={points:10}\n",
    "\n",
    "**Your tasks:**\n",
    "\n",
    "1. Try a linear model as a first real attempt. \n",
    "2. Carry out hyperparameter tuning to explore different values for the complexity hyperparameter. \n",
    "3. Report cross-validation scores along with standard deviation. \n",
    "4. Summarize your results."
   ]
  },
  {
   "cell_type": "markdown",
   "metadata": {},
   "source": [
    "<div class=\"alert alert-warning\">\n",
    "    \n",
    "Solution_7\n",
    "    \n",
    "</div>"
   ]
  },
  {
   "cell_type": "markdown",
   "metadata": {},
   "source": [
    "_Type your answer here, replacing this text._"
   ]
  },
  {
   "cell_type": "code",
   "execution_count": 71,
   "metadata": {
    "tags": []
   },
   "outputs": [
    {
     "data": {
      "text/html": [
       "<div>\n",
       "<style scoped>\n",
       "    .dataframe tbody tr th:only-of-type {\n",
       "        vertical-align: middle;\n",
       "    }\n",
       "\n",
       "    .dataframe tbody tr th {\n",
       "        vertical-align: top;\n",
       "    }\n",
       "\n",
       "    .dataframe thead th {\n",
       "        text-align: right;\n",
       "    }\n",
       "</style>\n",
       "<table border=\"1\" class=\"dataframe\">\n",
       "  <thead>\n",
       "    <tr style=\"text-align: right;\">\n",
       "      <th></th>\n",
       "      <th>fit_time</th>\n",
       "      <th>score_time</th>\n",
       "      <th>test_score</th>\n",
       "      <th>train_score</th>\n",
       "    </tr>\n",
       "  </thead>\n",
       "  <tbody>\n",
       "    <tr>\n",
       "      <th>Dummy</th>\n",
       "      <td>0.003 (+/- 0.002)</td>\n",
       "      <td>0.001 (+/- 0.000)</td>\n",
       "      <td>0.777 (+/- 0.000)</td>\n",
       "      <td>0.777 (+/- 0.000)</td>\n",
       "    </tr>\n",
       "    <tr>\n",
       "      <th>Dummy (recall)</th>\n",
       "      <td>0.003 (+/- 0.001)</td>\n",
       "      <td>0.002 (+/- 0.000)</td>\n",
       "      <td>0.500 (+/- 0.000)</td>\n",
       "      <td>NaN</td>\n",
       "    </tr>\n",
       "    <tr>\n",
       "      <th>logistic_regression</th>\n",
       "      <td>0.255 (+/- 0.092)</td>\n",
       "      <td>0.010 (+/- 0.002)</td>\n",
       "      <td>0.810 (+/- 0.002)</td>\n",
       "      <td>0.811 (+/- 0.001)</td>\n",
       "    </tr>\n",
       "    <tr>\n",
       "      <th>logistic_regression (recall)</th>\n",
       "      <td>0.226 (+/- 0.059)</td>\n",
       "      <td>0.012 (+/- 0.001)</td>\n",
       "      <td>0.608 (+/- 0.006)</td>\n",
       "      <td>NaN</td>\n",
       "    </tr>\n",
       "  </tbody>\n",
       "</table>\n",
       "</div>"
      ],
      "text/plain": [
       "                                       fit_time         score_time  \\\n",
       "Dummy                         0.003 (+/- 0.002)  0.001 (+/- 0.000)   \n",
       "Dummy (recall)                0.003 (+/- 0.001)  0.002 (+/- 0.000)   \n",
       "logistic_regression           0.255 (+/- 0.092)  0.010 (+/- 0.002)   \n",
       "logistic_regression (recall)  0.226 (+/- 0.059)  0.012 (+/- 0.001)   \n",
       "\n",
       "                                     test_score        train_score  \n",
       "Dummy                         0.777 (+/- 0.000)  0.777 (+/- 0.000)  \n",
       "Dummy (recall)                0.500 (+/- 0.000)                NaN  \n",
       "logistic_regression           0.810 (+/- 0.002)  0.811 (+/- 0.001)  \n",
       "logistic_regression (recall)  0.608 (+/- 0.006)                NaN  "
      ]
     },
     "execution_count": 71,
     "metadata": {},
     "output_type": "execute_result"
    }
   ],
   "source": [
    "# adapted from lecture 7 and sklear.org\n",
    "lr = LogisticRegression(max_iter=1000) \n",
    "pipe_lr = make_pipeline(ct, lr)\n",
    "#using the default settings did not converge within the maximum number of iterations. Enorder to fix this we adjusted a hyperparameter that controls the maximum number of iterations\n",
    "#We have tried to optimize this but it gives warnings so we will just keep it as 1000\n",
    "results['logistic_regression'] = mean_std_cross_val_scores(pipe_lr, X_train, y_train, return_train_score=True)\n",
    "pd.DataFrame(results).T"
   ]
  },
  {
   "cell_type": "code",
   "execution_count": 26,
   "metadata": {},
   "outputs": [
    {
     "data": {
      "text/html": [
       "<div>\n",
       "<style scoped>\n",
       "    .dataframe tbody tr th:only-of-type {\n",
       "        vertical-align: middle;\n",
       "    }\n",
       "\n",
       "    .dataframe tbody tr th {\n",
       "        vertical-align: top;\n",
       "    }\n",
       "\n",
       "    .dataframe thead th {\n",
       "        text-align: right;\n",
       "    }\n",
       "</style>\n",
       "<table border=\"1\" class=\"dataframe\">\n",
       "  <thead>\n",
       "    <tr style=\"text-align: right;\">\n",
       "      <th></th>\n",
       "      <th>fit_time</th>\n",
       "      <th>score_time</th>\n",
       "      <th>test_score</th>\n",
       "      <th>train_score</th>\n",
       "    </tr>\n",
       "  </thead>\n",
       "  <tbody>\n",
       "    <tr>\n",
       "      <th>Dummy</th>\n",
       "      <td>0.003 (+/- 0.002)</td>\n",
       "      <td>0.001 (+/- 0.000)</td>\n",
       "      <td>0.777 (+/- 0.000)</td>\n",
       "      <td>0.777 (+/- 0.000)</td>\n",
       "    </tr>\n",
       "    <tr>\n",
       "      <th>Dummy (recall)</th>\n",
       "      <td>0.003 (+/- 0.001)</td>\n",
       "      <td>0.002 (+/- 0.000)</td>\n",
       "      <td>0.500 (+/- 0.000)</td>\n",
       "      <td>NaN</td>\n",
       "    </tr>\n",
       "    <tr>\n",
       "      <th>logistic_regression</th>\n",
       "      <td>0.191 (+/- 0.011)</td>\n",
       "      <td>0.010 (+/- 0.000)</td>\n",
       "      <td>0.810 (+/- 0.002)</td>\n",
       "      <td>0.811 (+/- 0.001)</td>\n",
       "    </tr>\n",
       "    <tr>\n",
       "      <th>logistic_regression (recall)</th>\n",
       "      <td>0.226 (+/- 0.059)</td>\n",
       "      <td>0.012 (+/- 0.001)</td>\n",
       "      <td>0.608 (+/- 0.006)</td>\n",
       "      <td>NaN</td>\n",
       "    </tr>\n",
       "  </tbody>\n",
       "</table>\n",
       "</div>"
      ],
      "text/plain": [
       "                                       fit_time         score_time  \\\n",
       "Dummy                         0.003 (+/- 0.002)  0.001 (+/- 0.000)   \n",
       "Dummy (recall)                0.003 (+/- 0.001)  0.002 (+/- 0.000)   \n",
       "logistic_regression           0.191 (+/- 0.011)  0.010 (+/- 0.000)   \n",
       "logistic_regression (recall)  0.226 (+/- 0.059)  0.012 (+/- 0.001)   \n",
       "\n",
       "                                     test_score        train_score  \n",
       "Dummy                         0.777 (+/- 0.000)  0.777 (+/- 0.000)  \n",
       "Dummy (recall)                0.500 (+/- 0.000)                NaN  \n",
       "logistic_regression           0.810 (+/- 0.002)  0.811 (+/- 0.001)  \n",
       "logistic_regression (recall)  0.608 (+/- 0.006)                NaN  "
      ]
     },
     "execution_count": 26,
     "metadata": {},
     "output_type": "execute_result"
    }
   ],
   "source": [
    "results['logistic_regression (recall)'] = mean_std_cross_val_scores(pipe_lr, X_train, y_train, scoring=target_score)\n",
    "pd.DataFrame(results).T"
   ]
  },
  {
   "cell_type": "code",
   "execution_count": 91,
   "metadata": {},
   "outputs": [
    {
     "name": "stdout",
     "output_type": "stream",
     "text": [
      "Fitting 5 folds for each of 100 candidates, totalling 500 fits\n"
     ]
    },
    {
     "data": {
      "text/html": [
       "<style>#sk-container-id-13 {color: black;background-color: white;}#sk-container-id-13 pre{padding: 0;}#sk-container-id-13 div.sk-toggleable {background-color: white;}#sk-container-id-13 label.sk-toggleable__label {cursor: pointer;display: block;width: 100%;margin-bottom: 0;padding: 0.3em;box-sizing: border-box;text-align: center;}#sk-container-id-13 label.sk-toggleable__label-arrow:before {content: \"▸\";float: left;margin-right: 0.25em;color: #696969;}#sk-container-id-13 label.sk-toggleable__label-arrow:hover:before {color: black;}#sk-container-id-13 div.sk-estimator:hover label.sk-toggleable__label-arrow:before {color: black;}#sk-container-id-13 div.sk-toggleable__content {max-height: 0;max-width: 0;overflow: hidden;text-align: left;background-color: #f0f8ff;}#sk-container-id-13 div.sk-toggleable__content pre {margin: 0.2em;color: black;border-radius: 0.25em;background-color: #f0f8ff;}#sk-container-id-13 input.sk-toggleable__control:checked~div.sk-toggleable__content {max-height: 200px;max-width: 100%;overflow: auto;}#sk-container-id-13 input.sk-toggleable__control:checked~label.sk-toggleable__label-arrow:before {content: \"▾\";}#sk-container-id-13 div.sk-estimator input.sk-toggleable__control:checked~label.sk-toggleable__label {background-color: #d4ebff;}#sk-container-id-13 div.sk-label input.sk-toggleable__control:checked~label.sk-toggleable__label {background-color: #d4ebff;}#sk-container-id-13 input.sk-hidden--visually {border: 0;clip: rect(1px 1px 1px 1px);clip: rect(1px, 1px, 1px, 1px);height: 1px;margin: -1px;overflow: hidden;padding: 0;position: absolute;width: 1px;}#sk-container-id-13 div.sk-estimator {font-family: monospace;background-color: #f0f8ff;border: 1px dotted black;border-radius: 0.25em;box-sizing: border-box;margin-bottom: 0.5em;}#sk-container-id-13 div.sk-estimator:hover {background-color: #d4ebff;}#sk-container-id-13 div.sk-parallel-item::after {content: \"\";width: 100%;border-bottom: 1px solid gray;flex-grow: 1;}#sk-container-id-13 div.sk-label:hover label.sk-toggleable__label {background-color: #d4ebff;}#sk-container-id-13 div.sk-serial::before {content: \"\";position: absolute;border-left: 1px solid gray;box-sizing: border-box;top: 0;bottom: 0;left: 50%;z-index: 0;}#sk-container-id-13 div.sk-serial {display: flex;flex-direction: column;align-items: center;background-color: white;padding-right: 0.2em;padding-left: 0.2em;position: relative;}#sk-container-id-13 div.sk-item {position: relative;z-index: 1;}#sk-container-id-13 div.sk-parallel {display: flex;align-items: stretch;justify-content: center;background-color: white;position: relative;}#sk-container-id-13 div.sk-item::before, #sk-container-id-13 div.sk-parallel-item::before {content: \"\";position: absolute;border-left: 1px solid gray;box-sizing: border-box;top: 0;bottom: 0;left: 50%;z-index: -1;}#sk-container-id-13 div.sk-parallel-item {display: flex;flex-direction: column;z-index: 1;position: relative;background-color: white;}#sk-container-id-13 div.sk-parallel-item:first-child::after {align-self: flex-end;width: 50%;}#sk-container-id-13 div.sk-parallel-item:last-child::after {align-self: flex-start;width: 50%;}#sk-container-id-13 div.sk-parallel-item:only-child::after {width: 0;}#sk-container-id-13 div.sk-dashed-wrapped {border: 1px dashed gray;margin: 0 0.4em 0.5em 0.4em;box-sizing: border-box;padding-bottom: 0.4em;background-color: white;}#sk-container-id-13 div.sk-label label {font-family: monospace;font-weight: bold;display: inline-block;line-height: 1.2em;}#sk-container-id-13 div.sk-label-container {text-align: center;}#sk-container-id-13 div.sk-container {/* jupyter's `normalize.less` sets `[hidden] { display: none; }` but bootstrap.min.css set `[hidden] { display: none !important; }` so we also need the `!important` here to be able to override the default hidden behavior on the sphinx rendered scikit-learn.org. See: https://github.com/scikit-learn/scikit-learn/issues/21755 */display: inline-block !important;position: relative;}#sk-container-id-13 div.sk-text-repr-fallback {display: none;}</style><div id=\"sk-container-id-13\" class=\"sk-top-container\"><div class=\"sk-text-repr-fallback\"><pre>RandomizedSearchCV(estimator=Pipeline(steps=[(&#x27;columntransformer&#x27;,\n",
       "                                              ColumnTransformer(transformers=[(&#x27;standardscaler&#x27;,\n",
       "                                                                               StandardScaler(),\n",
       "                                                                               [&#x27;AGE&#x27;,\n",
       "                                                                                &#x27;LIMIT_BAL&#x27;,\n",
       "                                                                                &#x27;PAY_0&#x27;,\n",
       "                                                                                &#x27;PAY_2&#x27;,\n",
       "                                                                                &#x27;PAY_3&#x27;,\n",
       "                                                                                &#x27;PAY_4&#x27;,\n",
       "                                                                                &#x27;PAY_5&#x27;,\n",
       "                                                                                &#x27;PAY_6&#x27;,\n",
       "                                                                                &#x27;BILL_AMT1&#x27;,\n",
       "                                                                                &#x27;BILL_AMT2&#x27;,\n",
       "                                                                                &#x27;BILL_AMT3&#x27;,\n",
       "                                                                                &#x27;BILL_AMT4&#x27;,\n",
       "                                                                                &#x27;BILL_AMT5&#x27;,\n",
       "                                                                                &#x27;BILL_AMT6&#x27;,\n",
       "                                                                                &#x27;PAY_AMT1&#x27;,\n",
       "                                                                                &#x27;PAY_AMT2&#x27;,\n",
       "                                                                                &#x27;PAY_AMT3&#x27;,\n",
       "                                                                                &#x27;PAY_AMT4&#x27;,\n",
       "                                                                                &#x27;PAY_AMT5&#x27;,\n",
       "                                                                                &#x27;PAY_AMT6&#x27;]),\n",
       "                                                                              (&#x27;onehoten...\n",
       "                                                                               OneHotEncoder(drop=&#x27;if_binary&#x27;,\n",
       "                                                                                             dtype=&lt;class &#x27;int&#x27;&gt;,\n",
       "                                                                                             sparse=False),\n",
       "                                                                               [&#x27;SEX&#x27;]),\n",
       "                                                                              (&#x27;drop&#x27;,\n",
       "                                                                               &#x27;drop&#x27;,\n",
       "                                                                               [&#x27;ID&#x27;])])),\n",
       "                                             (&#x27;logisticregression&#x27;,\n",
       "                                              LogisticRegression(max_iter=1000))]),\n",
       "                   n_iter=100, n_jobs=-1,\n",
       "                   param_distributions={&#x27;logisticregression__C&#x27;: &lt;scipy.stats._distn_infrastructure.rv_continuous_frozen object at 0x1645fe890&gt;},\n",
       "                   random_state=321,\n",
       "                   scoring=make_scorer(recall_score, average=macro), verbose=1)</pre><b>In a Jupyter environment, please rerun this cell to show the HTML representation or trust the notebook. <br />On GitHub, the HTML representation is unable to render, please try loading this page with nbviewer.org.</b></div><div class=\"sk-container\" hidden><div class=\"sk-item sk-dashed-wrapped\"><div class=\"sk-label-container\"><div class=\"sk-label sk-toggleable\"><input class=\"sk-toggleable__control sk-hidden--visually\" id=\"sk-estimator-id-162\" type=\"checkbox\" ><label for=\"sk-estimator-id-162\" class=\"sk-toggleable__label sk-toggleable__label-arrow\">RandomizedSearchCV</label><div class=\"sk-toggleable__content\"><pre>RandomizedSearchCV(estimator=Pipeline(steps=[(&#x27;columntransformer&#x27;,\n",
       "                                              ColumnTransformer(transformers=[(&#x27;standardscaler&#x27;,\n",
       "                                                                               StandardScaler(),\n",
       "                                                                               [&#x27;AGE&#x27;,\n",
       "                                                                                &#x27;LIMIT_BAL&#x27;,\n",
       "                                                                                &#x27;PAY_0&#x27;,\n",
       "                                                                                &#x27;PAY_2&#x27;,\n",
       "                                                                                &#x27;PAY_3&#x27;,\n",
       "                                                                                &#x27;PAY_4&#x27;,\n",
       "                                                                                &#x27;PAY_5&#x27;,\n",
       "                                                                                &#x27;PAY_6&#x27;,\n",
       "                                                                                &#x27;BILL_AMT1&#x27;,\n",
       "                                                                                &#x27;BILL_AMT2&#x27;,\n",
       "                                                                                &#x27;BILL_AMT3&#x27;,\n",
       "                                                                                &#x27;BILL_AMT4&#x27;,\n",
       "                                                                                &#x27;BILL_AMT5&#x27;,\n",
       "                                                                                &#x27;BILL_AMT6&#x27;,\n",
       "                                                                                &#x27;PAY_AMT1&#x27;,\n",
       "                                                                                &#x27;PAY_AMT2&#x27;,\n",
       "                                                                                &#x27;PAY_AMT3&#x27;,\n",
       "                                                                                &#x27;PAY_AMT4&#x27;,\n",
       "                                                                                &#x27;PAY_AMT5&#x27;,\n",
       "                                                                                &#x27;PAY_AMT6&#x27;]),\n",
       "                                                                              (&#x27;onehoten...\n",
       "                                                                               OneHotEncoder(drop=&#x27;if_binary&#x27;,\n",
       "                                                                                             dtype=&lt;class &#x27;int&#x27;&gt;,\n",
       "                                                                                             sparse=False),\n",
       "                                                                               [&#x27;SEX&#x27;]),\n",
       "                                                                              (&#x27;drop&#x27;,\n",
       "                                                                               &#x27;drop&#x27;,\n",
       "                                                                               [&#x27;ID&#x27;])])),\n",
       "                                             (&#x27;logisticregression&#x27;,\n",
       "                                              LogisticRegression(max_iter=1000))]),\n",
       "                   n_iter=100, n_jobs=-1,\n",
       "                   param_distributions={&#x27;logisticregression__C&#x27;: &lt;scipy.stats._distn_infrastructure.rv_continuous_frozen object at 0x1645fe890&gt;},\n",
       "                   random_state=321,\n",
       "                   scoring=make_scorer(recall_score, average=macro), verbose=1)</pre></div></div></div><div class=\"sk-parallel\"><div class=\"sk-parallel-item\"><div class=\"sk-item\"><div class=\"sk-label-container\"><div class=\"sk-label sk-toggleable\"><input class=\"sk-toggleable__control sk-hidden--visually\" id=\"sk-estimator-id-163\" type=\"checkbox\" ><label for=\"sk-estimator-id-163\" class=\"sk-toggleable__label sk-toggleable__label-arrow\">estimator: Pipeline</label><div class=\"sk-toggleable__content\"><pre>Pipeline(steps=[(&#x27;columntransformer&#x27;,\n",
       "                 ColumnTransformer(transformers=[(&#x27;standardscaler&#x27;,\n",
       "                                                  StandardScaler(),\n",
       "                                                  [&#x27;AGE&#x27;, &#x27;LIMIT_BAL&#x27;, &#x27;PAY_0&#x27;,\n",
       "                                                   &#x27;PAY_2&#x27;, &#x27;PAY_3&#x27;, &#x27;PAY_4&#x27;,\n",
       "                                                   &#x27;PAY_5&#x27;, &#x27;PAY_6&#x27;,\n",
       "                                                   &#x27;BILL_AMT1&#x27;, &#x27;BILL_AMT2&#x27;,\n",
       "                                                   &#x27;BILL_AMT3&#x27;, &#x27;BILL_AMT4&#x27;,\n",
       "                                                   &#x27;BILL_AMT5&#x27;, &#x27;BILL_AMT6&#x27;,\n",
       "                                                   &#x27;PAY_AMT1&#x27;, &#x27;PAY_AMT2&#x27;,\n",
       "                                                   &#x27;PAY_AMT3&#x27;, &#x27;PAY_AMT4&#x27;,\n",
       "                                                   &#x27;PAY_AMT5&#x27;, &#x27;PAY_AMT6&#x27;]),\n",
       "                                                 (&#x27;onehotencoder-1&#x27;,\n",
       "                                                  OneHotEncoder(handle_unknown=&#x27;ignore&#x27;),\n",
       "                                                  [&#x27;MARRIAGE&#x27;]),\n",
       "                                                 (&#x27;ordinalencoder&#x27;,\n",
       "                                                  OrdinalEncoder(),\n",
       "                                                  [&#x27;EDUCATION&#x27;]),\n",
       "                                                 (&#x27;onehotencoder-2&#x27;,\n",
       "                                                  OneHotEncoder(drop=&#x27;if_binary&#x27;,\n",
       "                                                                dtype=&lt;class &#x27;int&#x27;&gt;,\n",
       "                                                                sparse=False),\n",
       "                                                  [&#x27;SEX&#x27;]),\n",
       "                                                 (&#x27;drop&#x27;, &#x27;drop&#x27;, [&#x27;ID&#x27;])])),\n",
       "                (&#x27;logisticregression&#x27;, LogisticRegression(max_iter=1000))])</pre></div></div></div><div class=\"sk-serial\"><div class=\"sk-item\"><div class=\"sk-serial\"><div class=\"sk-item sk-dashed-wrapped\"><div class=\"sk-label-container\"><div class=\"sk-label sk-toggleable\"><input class=\"sk-toggleable__control sk-hidden--visually\" id=\"sk-estimator-id-164\" type=\"checkbox\" ><label for=\"sk-estimator-id-164\" class=\"sk-toggleable__label sk-toggleable__label-arrow\">columntransformer: ColumnTransformer</label><div class=\"sk-toggleable__content\"><pre>ColumnTransformer(transformers=[(&#x27;standardscaler&#x27;, StandardScaler(),\n",
       "                                 [&#x27;AGE&#x27;, &#x27;LIMIT_BAL&#x27;, &#x27;PAY_0&#x27;, &#x27;PAY_2&#x27;, &#x27;PAY_3&#x27;,\n",
       "                                  &#x27;PAY_4&#x27;, &#x27;PAY_5&#x27;, &#x27;PAY_6&#x27;, &#x27;BILL_AMT1&#x27;,\n",
       "                                  &#x27;BILL_AMT2&#x27;, &#x27;BILL_AMT3&#x27;, &#x27;BILL_AMT4&#x27;,\n",
       "                                  &#x27;BILL_AMT5&#x27;, &#x27;BILL_AMT6&#x27;, &#x27;PAY_AMT1&#x27;,\n",
       "                                  &#x27;PAY_AMT2&#x27;, &#x27;PAY_AMT3&#x27;, &#x27;PAY_AMT4&#x27;,\n",
       "                                  &#x27;PAY_AMT5&#x27;, &#x27;PAY_AMT6&#x27;]),\n",
       "                                (&#x27;onehotencoder-1&#x27;,\n",
       "                                 OneHotEncoder(handle_unknown=&#x27;ignore&#x27;),\n",
       "                                 [&#x27;MARRIAGE&#x27;]),\n",
       "                                (&#x27;ordinalencoder&#x27;, OrdinalEncoder(),\n",
       "                                 [&#x27;EDUCATION&#x27;]),\n",
       "                                (&#x27;onehotencoder-2&#x27;,\n",
       "                                 OneHotEncoder(drop=&#x27;if_binary&#x27;,\n",
       "                                               dtype=&lt;class &#x27;int&#x27;&gt;,\n",
       "                                               sparse=False),\n",
       "                                 [&#x27;SEX&#x27;]),\n",
       "                                (&#x27;drop&#x27;, &#x27;drop&#x27;, [&#x27;ID&#x27;])])</pre></div></div></div><div class=\"sk-parallel\"><div class=\"sk-parallel-item\"><div class=\"sk-item\"><div class=\"sk-label-container\"><div class=\"sk-label sk-toggleable\"><input class=\"sk-toggleable__control sk-hidden--visually\" id=\"sk-estimator-id-165\" type=\"checkbox\" ><label for=\"sk-estimator-id-165\" class=\"sk-toggleable__label sk-toggleable__label-arrow\">standardscaler</label><div class=\"sk-toggleable__content\"><pre>[&#x27;AGE&#x27;, &#x27;LIMIT_BAL&#x27;, &#x27;PAY_0&#x27;, &#x27;PAY_2&#x27;, &#x27;PAY_3&#x27;, &#x27;PAY_4&#x27;, &#x27;PAY_5&#x27;, &#x27;PAY_6&#x27;, &#x27;BILL_AMT1&#x27;, &#x27;BILL_AMT2&#x27;, &#x27;BILL_AMT3&#x27;, &#x27;BILL_AMT4&#x27;, &#x27;BILL_AMT5&#x27;, &#x27;BILL_AMT6&#x27;, &#x27;PAY_AMT1&#x27;, &#x27;PAY_AMT2&#x27;, &#x27;PAY_AMT3&#x27;, &#x27;PAY_AMT4&#x27;, &#x27;PAY_AMT5&#x27;, &#x27;PAY_AMT6&#x27;]</pre></div></div></div><div class=\"sk-serial\"><div class=\"sk-item\"><div class=\"sk-estimator sk-toggleable\"><input class=\"sk-toggleable__control sk-hidden--visually\" id=\"sk-estimator-id-166\" type=\"checkbox\" ><label for=\"sk-estimator-id-166\" class=\"sk-toggleable__label sk-toggleable__label-arrow\">StandardScaler</label><div class=\"sk-toggleable__content\"><pre>StandardScaler()</pre></div></div></div></div></div></div><div class=\"sk-parallel-item\"><div class=\"sk-item\"><div class=\"sk-label-container\"><div class=\"sk-label sk-toggleable\"><input class=\"sk-toggleable__control sk-hidden--visually\" id=\"sk-estimator-id-167\" type=\"checkbox\" ><label for=\"sk-estimator-id-167\" class=\"sk-toggleable__label sk-toggleable__label-arrow\">onehotencoder-1</label><div class=\"sk-toggleable__content\"><pre>[&#x27;MARRIAGE&#x27;]</pre></div></div></div><div class=\"sk-serial\"><div class=\"sk-item\"><div class=\"sk-estimator sk-toggleable\"><input class=\"sk-toggleable__control sk-hidden--visually\" id=\"sk-estimator-id-168\" type=\"checkbox\" ><label for=\"sk-estimator-id-168\" class=\"sk-toggleable__label sk-toggleable__label-arrow\">OneHotEncoder</label><div class=\"sk-toggleable__content\"><pre>OneHotEncoder(handle_unknown=&#x27;ignore&#x27;)</pre></div></div></div></div></div></div><div class=\"sk-parallel-item\"><div class=\"sk-item\"><div class=\"sk-label-container\"><div class=\"sk-label sk-toggleable\"><input class=\"sk-toggleable__control sk-hidden--visually\" id=\"sk-estimator-id-169\" type=\"checkbox\" ><label for=\"sk-estimator-id-169\" class=\"sk-toggleable__label sk-toggleable__label-arrow\">ordinalencoder</label><div class=\"sk-toggleable__content\"><pre>[&#x27;EDUCATION&#x27;]</pre></div></div></div><div class=\"sk-serial\"><div class=\"sk-item\"><div class=\"sk-estimator sk-toggleable\"><input class=\"sk-toggleable__control sk-hidden--visually\" id=\"sk-estimator-id-170\" type=\"checkbox\" ><label for=\"sk-estimator-id-170\" class=\"sk-toggleable__label sk-toggleable__label-arrow\">OrdinalEncoder</label><div class=\"sk-toggleable__content\"><pre>OrdinalEncoder()</pre></div></div></div></div></div></div><div class=\"sk-parallel-item\"><div class=\"sk-item\"><div class=\"sk-label-container\"><div class=\"sk-label sk-toggleable\"><input class=\"sk-toggleable__control sk-hidden--visually\" id=\"sk-estimator-id-171\" type=\"checkbox\" ><label for=\"sk-estimator-id-171\" class=\"sk-toggleable__label sk-toggleable__label-arrow\">onehotencoder-2</label><div class=\"sk-toggleable__content\"><pre>[&#x27;SEX&#x27;]</pre></div></div></div><div class=\"sk-serial\"><div class=\"sk-item\"><div class=\"sk-estimator sk-toggleable\"><input class=\"sk-toggleable__control sk-hidden--visually\" id=\"sk-estimator-id-172\" type=\"checkbox\" ><label for=\"sk-estimator-id-172\" class=\"sk-toggleable__label sk-toggleable__label-arrow\">OneHotEncoder</label><div class=\"sk-toggleable__content\"><pre>OneHotEncoder(drop=&#x27;if_binary&#x27;, dtype=&lt;class &#x27;int&#x27;&gt;, sparse=False)</pre></div></div></div></div></div></div><div class=\"sk-parallel-item\"><div class=\"sk-item\"><div class=\"sk-label-container\"><div class=\"sk-label sk-toggleable\"><input class=\"sk-toggleable__control sk-hidden--visually\" id=\"sk-estimator-id-173\" type=\"checkbox\" ><label for=\"sk-estimator-id-173\" class=\"sk-toggleable__label sk-toggleable__label-arrow\">drop</label><div class=\"sk-toggleable__content\"><pre>[&#x27;ID&#x27;]</pre></div></div></div><div class=\"sk-serial\"><div class=\"sk-item\"><div class=\"sk-estimator sk-toggleable\"><input class=\"sk-toggleable__control sk-hidden--visually\" id=\"sk-estimator-id-174\" type=\"checkbox\" ><label for=\"sk-estimator-id-174\" class=\"sk-toggleable__label sk-toggleable__label-arrow\">drop</label><div class=\"sk-toggleable__content\"><pre>drop</pre></div></div></div></div></div></div></div></div><div class=\"sk-item\"><div class=\"sk-estimator sk-toggleable\"><input class=\"sk-toggleable__control sk-hidden--visually\" id=\"sk-estimator-id-175\" type=\"checkbox\" ><label for=\"sk-estimator-id-175\" class=\"sk-toggleable__label sk-toggleable__label-arrow\">LogisticRegression</label><div class=\"sk-toggleable__content\"><pre>LogisticRegression(max_iter=1000)</pre></div></div></div></div></div></div></div></div></div></div></div></div>"
      ],
      "text/plain": [
       "RandomizedSearchCV(estimator=Pipeline(steps=[('columntransformer',\n",
       "                                              ColumnTransformer(transformers=[('standardscaler',\n",
       "                                                                               StandardScaler(),\n",
       "                                                                               ['AGE',\n",
       "                                                                                'LIMIT_BAL',\n",
       "                                                                                'PAY_0',\n",
       "                                                                                'PAY_2',\n",
       "                                                                                'PAY_3',\n",
       "                                                                                'PAY_4',\n",
       "                                                                                'PAY_5',\n",
       "                                                                                'PAY_6',\n",
       "                                                                                'BILL_AMT1',\n",
       "                                                                                'BILL_AMT2',\n",
       "                                                                                'BILL_AMT3',\n",
       "                                                                                'BILL_AMT4',\n",
       "                                                                                'BILL_AMT5',\n",
       "                                                                                'BILL_AMT6',\n",
       "                                                                                'PAY_AMT1',\n",
       "                                                                                'PAY_AMT2',\n",
       "                                                                                'PAY_AMT3',\n",
       "                                                                                'PAY_AMT4',\n",
       "                                                                                'PAY_AMT5',\n",
       "                                                                                'PAY_AMT6']),\n",
       "                                                                              ('onehoten...\n",
       "                                                                               OneHotEncoder(drop='if_binary',\n",
       "                                                                                             dtype=<class 'int'>,\n",
       "                                                                                             sparse=False),\n",
       "                                                                               ['SEX']),\n",
       "                                                                              ('drop',\n",
       "                                                                               'drop',\n",
       "                                                                               ['ID'])])),\n",
       "                                             ('logisticregression',\n",
       "                                              LogisticRegression(max_iter=1000))]),\n",
       "                   n_iter=100, n_jobs=-1,\n",
       "                   param_distributions={'logisticregression__C': <scipy.stats._distn_infrastructure.rv_continuous_frozen object at 0x1645fe890>},\n",
       "                   random_state=321,\n",
       "                   scoring=make_scorer(recall_score, average=macro), verbose=1)"
      ]
     },
     "execution_count": 91,
     "metadata": {},
     "output_type": "execute_result"
    }
   ],
   "source": [
    "# Carry out hyperparameter tuning to explore different values for the complexity hyperparameter.\n",
    "from scipy.stats import uniform, loguniform\n",
    "param_lr = {\n",
    "    \"logisticregression__C\": loguniform(1e-3, 1e3), # uniform(0.001, 1e4), # , \n",
    "}\n",
    "search_lr = RandomizedSearchCV(pipe_lr, param_lr, n_iter=100, verbose=1, n_jobs=-1, random_state=321, scoring=target_score)\n",
    "\n",
    "search_lr.fit(X_train, y_train)"
   ]
  },
  {
   "cell_type": "code",
   "execution_count": 92,
   "metadata": {},
   "outputs": [
    {
     "data": {
      "text/html": [
       "<div>\n",
       "<style scoped>\n",
       "    .dataframe tbody tr th:only-of-type {\n",
       "        vertical-align: middle;\n",
       "    }\n",
       "\n",
       "    .dataframe tbody tr th {\n",
       "        vertical-align: top;\n",
       "    }\n",
       "\n",
       "    .dataframe thead th {\n",
       "        text-align: right;\n",
       "    }\n",
       "</style>\n",
       "<table border=\"1\" class=\"dataframe\">\n",
       "  <thead>\n",
       "    <tr style=\"text-align: right;\">\n",
       "      <th>rank_test_score</th>\n",
       "      <th>1</th>\n",
       "      <th>1</th>\n",
       "      <th>1</th>\n",
       "      <th>1</th>\n",
       "      <th>1</th>\n",
       "      <th>1</th>\n",
       "      <th>1</th>\n",
       "      <th>1</th>\n",
       "      <th>1</th>\n",
       "      <th>1</th>\n",
       "      <th>...</th>\n",
       "      <th>91</th>\n",
       "      <th>92</th>\n",
       "      <th>93</th>\n",
       "      <th>94</th>\n",
       "      <th>95</th>\n",
       "      <th>96</th>\n",
       "      <th>97</th>\n",
       "      <th>98</th>\n",
       "      <th>99</th>\n",
       "      <th>100</th>\n",
       "    </tr>\n",
       "  </thead>\n",
       "  <tbody>\n",
       "    <tr>\n",
       "      <th>mean_fit_time</th>\n",
       "      <td>0.302726</td>\n",
       "      <td>0.299133</td>\n",
       "      <td>0.310801</td>\n",
       "      <td>0.325933</td>\n",
       "      <td>0.312955</td>\n",
       "      <td>0.314864</td>\n",
       "      <td>0.388195</td>\n",
       "      <td>0.318186</td>\n",
       "      <td>0.362418</td>\n",
       "      <td>0.323049</td>\n",
       "      <td>...</td>\n",
       "      <td>0.142638</td>\n",
       "      <td>0.137174</td>\n",
       "      <td>0.119707</td>\n",
       "      <td>0.133705</td>\n",
       "      <td>0.134646</td>\n",
       "      <td>0.129317</td>\n",
       "      <td>0.120892</td>\n",
       "      <td>0.121175</td>\n",
       "      <td>0.119087</td>\n",
       "      <td>0.145488</td>\n",
       "    </tr>\n",
       "    <tr>\n",
       "      <th>std_fit_time</th>\n",
       "      <td>0.019427</td>\n",
       "      <td>0.012448</td>\n",
       "      <td>0.037804</td>\n",
       "      <td>0.031351</td>\n",
       "      <td>0.022934</td>\n",
       "      <td>0.01422</td>\n",
       "      <td>0.147691</td>\n",
       "      <td>0.042589</td>\n",
       "      <td>0.0505</td>\n",
       "      <td>0.017609</td>\n",
       "      <td>...</td>\n",
       "      <td>0.010099</td>\n",
       "      <td>0.002434</td>\n",
       "      <td>0.007358</td>\n",
       "      <td>0.004818</td>\n",
       "      <td>0.011422</td>\n",
       "      <td>0.006341</td>\n",
       "      <td>0.004144</td>\n",
       "      <td>0.015394</td>\n",
       "      <td>0.003459</td>\n",
       "      <td>0.005848</td>\n",
       "    </tr>\n",
       "    <tr>\n",
       "      <th>mean_score_time</th>\n",
       "      <td>0.024794</td>\n",
       "      <td>0.020244</td>\n",
       "      <td>0.02102</td>\n",
       "      <td>0.023523</td>\n",
       "      <td>0.02186</td>\n",
       "      <td>0.021836</td>\n",
       "      <td>0.022909</td>\n",
       "      <td>0.022119</td>\n",
       "      <td>0.024037</td>\n",
       "      <td>0.023691</td>\n",
       "      <td>...</td>\n",
       "      <td>0.022089</td>\n",
       "      <td>0.023429</td>\n",
       "      <td>0.019544</td>\n",
       "      <td>0.022924</td>\n",
       "      <td>0.02034</td>\n",
       "      <td>0.016911</td>\n",
       "      <td>0.020379</td>\n",
       "      <td>0.022937</td>\n",
       "      <td>0.023449</td>\n",
       "      <td>0.029267</td>\n",
       "    </tr>\n",
       "    <tr>\n",
       "      <th>std_score_time</th>\n",
       "      <td>0.003074</td>\n",
       "      <td>0.001464</td>\n",
       "      <td>0.002781</td>\n",
       "      <td>0.002834</td>\n",
       "      <td>0.001601</td>\n",
       "      <td>0.003509</td>\n",
       "      <td>0.002605</td>\n",
       "      <td>0.00298</td>\n",
       "      <td>0.004484</td>\n",
       "      <td>0.004733</td>\n",
       "      <td>...</td>\n",
       "      <td>0.001136</td>\n",
       "      <td>0.001727</td>\n",
       "      <td>0.002589</td>\n",
       "      <td>0.001214</td>\n",
       "      <td>0.003836</td>\n",
       "      <td>0.002971</td>\n",
       "      <td>0.002368</td>\n",
       "      <td>0.002117</td>\n",
       "      <td>0.004453</td>\n",
       "      <td>0.005099</td>\n",
       "    </tr>\n",
       "    <tr>\n",
       "      <th>param_logisticregression__C</th>\n",
       "      <td>206.8653</td>\n",
       "      <td>237.485249</td>\n",
       "      <td>346.770715</td>\n",
       "      <td>123.092306</td>\n",
       "      <td>9.832769</td>\n",
       "      <td>125.161389</td>\n",
       "      <td>5.502424</td>\n",
       "      <td>343.247506</td>\n",
       "      <td>125.40087</td>\n",
       "      <td>82.408718</td>\n",
       "      <td>...</td>\n",
       "      <td>0.003926</td>\n",
       "      <td>0.003531</td>\n",
       "      <td>0.003433</td>\n",
       "      <td>0.003352</td>\n",
       "      <td>0.002934</td>\n",
       "      <td>0.002913</td>\n",
       "      <td>0.001934</td>\n",
       "      <td>0.001814</td>\n",
       "      <td>0.001213</td>\n",
       "      <td>0.001101</td>\n",
       "    </tr>\n",
       "    <tr>\n",
       "      <th>params</th>\n",
       "      <td>{'logisticregression__C': 206.8653000896466}</td>\n",
       "      <td>{'logisticregression__C': 237.48524885953887}</td>\n",
       "      <td>{'logisticregression__C': 346.7707152018119}</td>\n",
       "      <td>{'logisticregression__C': 123.09230626129515}</td>\n",
       "      <td>{'logisticregression__C': 9.832769497987721}</td>\n",
       "      <td>{'logisticregression__C': 125.16138890587565}</td>\n",
       "      <td>{'logisticregression__C': 5.502424397192849}</td>\n",
       "      <td>{'logisticregression__C': 343.24750593189515}</td>\n",
       "      <td>{'logisticregression__C': 125.40086993701263}</td>\n",
       "      <td>{'logisticregression__C': 82.40871760657014}</td>\n",
       "      <td>...</td>\n",
       "      <td>{'logisticregression__C': 0.003926160602289389}</td>\n",
       "      <td>{'logisticregression__C': 0.0035306865158065306}</td>\n",
       "      <td>{'logisticregression__C': 0.0034325253937626606}</td>\n",
       "      <td>{'logisticregression__C': 0.0033524150394419003}</td>\n",
       "      <td>{'logisticregression__C': 0.002934094871595622}</td>\n",
       "      <td>{'logisticregression__C': 0.00291323571652645}</td>\n",
       "      <td>{'logisticregression__C': 0.0019342099065825886}</td>\n",
       "      <td>{'logisticregression__C': 0.0018142238491379852}</td>\n",
       "      <td>{'logisticregression__C': 0.0012129848341722832}</td>\n",
       "      <td>{'logisticregression__C': 0.0011006600276205214}</td>\n",
       "    </tr>\n",
       "    <tr>\n",
       "      <th>split0_test_score</th>\n",
       "      <td>0.610304</td>\n",
       "      <td>0.610304</td>\n",
       "      <td>0.610304</td>\n",
       "      <td>0.610304</td>\n",
       "      <td>0.610304</td>\n",
       "      <td>0.610304</td>\n",
       "      <td>0.610304</td>\n",
       "      <td>0.610304</td>\n",
       "      <td>0.610304</td>\n",
       "      <td>0.610304</td>\n",
       "      <td>...</td>\n",
       "      <td>0.599954</td>\n",
       "      <td>0.598126</td>\n",
       "      <td>0.598126</td>\n",
       "      <td>0.597059</td>\n",
       "      <td>0.595078</td>\n",
       "      <td>0.595078</td>\n",
       "      <td>0.588754</td>\n",
       "      <td>0.587153</td>\n",
       "      <td>0.580755</td>\n",
       "      <td>0.579307</td>\n",
       "    </tr>\n",
       "    <tr>\n",
       "      <th>split1_test_score</th>\n",
       "      <td>0.609395</td>\n",
       "      <td>0.609395</td>\n",
       "      <td>0.609395</td>\n",
       "      <td>0.609395</td>\n",
       "      <td>0.609395</td>\n",
       "      <td>0.609395</td>\n",
       "      <td>0.609395</td>\n",
       "      <td>0.609395</td>\n",
       "      <td>0.609395</td>\n",
       "      <td>0.609395</td>\n",
       "      <td>...</td>\n",
       "      <td>0.5982</td>\n",
       "      <td>0.596219</td>\n",
       "      <td>0.596219</td>\n",
       "      <td>0.596219</td>\n",
       "      <td>0.593171</td>\n",
       "      <td>0.593171</td>\n",
       "      <td>0.589974</td>\n",
       "      <td>0.588754</td>\n",
       "      <td>0.582356</td>\n",
       "      <td>0.581215</td>\n",
       "    </tr>\n",
       "    <tr>\n",
       "      <th>split2_test_score</th>\n",
       "      <td>0.610179</td>\n",
       "      <td>0.610179</td>\n",
       "      <td>0.610179</td>\n",
       "      <td>0.610179</td>\n",
       "      <td>0.610179</td>\n",
       "      <td>0.610179</td>\n",
       "      <td>0.610179</td>\n",
       "      <td>0.610179</td>\n",
       "      <td>0.610179</td>\n",
       "      <td>0.610179</td>\n",
       "      <td>...</td>\n",
       "      <td>0.599385</td>\n",
       "      <td>0.599538</td>\n",
       "      <td>0.599692</td>\n",
       "      <td>0.599312</td>\n",
       "      <td>0.598246</td>\n",
       "      <td>0.598246</td>\n",
       "      <td>0.589797</td>\n",
       "      <td>0.587818</td>\n",
       "      <td>0.578916</td>\n",
       "      <td>0.578843</td>\n",
       "    </tr>\n",
       "    <tr>\n",
       "      <th>split3_test_score</th>\n",
       "      <td>0.613457</td>\n",
       "      <td>0.613457</td>\n",
       "      <td>0.613457</td>\n",
       "      <td>0.613457</td>\n",
       "      <td>0.613457</td>\n",
       "      <td>0.613457</td>\n",
       "      <td>0.613457</td>\n",
       "      <td>0.613457</td>\n",
       "      <td>0.613457</td>\n",
       "      <td>0.613457</td>\n",
       "      <td>...</td>\n",
       "      <td>0.597246</td>\n",
       "      <td>0.5958</td>\n",
       "      <td>0.5958</td>\n",
       "      <td>0.595267</td>\n",
       "      <td>0.594508</td>\n",
       "      <td>0.593974</td>\n",
       "      <td>0.587278</td>\n",
       "      <td>0.587278</td>\n",
       "      <td>0.581955</td>\n",
       "      <td>0.579443</td>\n",
       "    </tr>\n",
       "    <tr>\n",
       "      <th>split4_test_score</th>\n",
       "      <td>0.598152</td>\n",
       "      <td>0.598152</td>\n",
       "      <td>0.598152</td>\n",
       "      <td>0.598152</td>\n",
       "      <td>0.598152</td>\n",
       "      <td>0.598152</td>\n",
       "      <td>0.598152</td>\n",
       "      <td>0.598152</td>\n",
       "      <td>0.598152</td>\n",
       "      <td>0.598152</td>\n",
       "      <td>...</td>\n",
       "      <td>0.582167</td>\n",
       "      <td>0.580721</td>\n",
       "      <td>0.580188</td>\n",
       "      <td>0.579655</td>\n",
       "      <td>0.578056</td>\n",
       "      <td>0.578056</td>\n",
       "      <td>0.572806</td>\n",
       "      <td>0.571133</td>\n",
       "      <td>0.564364</td>\n",
       "      <td>0.562159</td>\n",
       "    </tr>\n",
       "    <tr>\n",
       "      <th>mean_test_score</th>\n",
       "      <td>0.608297</td>\n",
       "      <td>0.608297</td>\n",
       "      <td>0.608297</td>\n",
       "      <td>0.608297</td>\n",
       "      <td>0.608297</td>\n",
       "      <td>0.608297</td>\n",
       "      <td>0.608297</td>\n",
       "      <td>0.608297</td>\n",
       "      <td>0.608297</td>\n",
       "      <td>0.608297</td>\n",
       "      <td>...</td>\n",
       "      <td>0.595391</td>\n",
       "      <td>0.594081</td>\n",
       "      <td>0.594005</td>\n",
       "      <td>0.593502</td>\n",
       "      <td>0.591812</td>\n",
       "      <td>0.591705</td>\n",
       "      <td>0.585722</td>\n",
       "      <td>0.584427</td>\n",
       "      <td>0.577669</td>\n",
       "      <td>0.576193</td>\n",
       "    </tr>\n",
       "    <tr>\n",
       "      <th>std_test_score</th>\n",
       "      <td>0.00526</td>\n",
       "      <td>0.00526</td>\n",
       "      <td>0.00526</td>\n",
       "      <td>0.00526</td>\n",
       "      <td>0.00526</td>\n",
       "      <td>0.00526</td>\n",
       "      <td>0.00526</td>\n",
       "      <td>0.00526</td>\n",
       "      <td>0.00526</td>\n",
       "      <td>0.00526</td>\n",
       "      <td>...</td>\n",
       "      <td>0.006678</td>\n",
       "      <td>0.006814</td>\n",
       "      <td>0.007048</td>\n",
       "      <td>0.007052</td>\n",
       "      <td>0.007077</td>\n",
       "      <td>0.007039</td>\n",
       "      <td>0.006529</td>\n",
       "      <td>0.006671</td>\n",
       "      <td>0.006759</td>\n",
       "      <td>0.007063</td>\n",
       "    </tr>\n",
       "  </tbody>\n",
       "</table>\n",
       "<p>13 rows × 100 columns</p>\n",
       "</div>"
      ],
      "text/plain": [
       "rank_test_score                                                       1    \\\n",
       "mean_fit_time                                                    0.302726   \n",
       "std_fit_time                                                     0.019427   \n",
       "mean_score_time                                                  0.024794   \n",
       "std_score_time                                                   0.003074   \n",
       "param_logisticregression__C                                      206.8653   \n",
       "params                       {'logisticregression__C': 206.8653000896466}   \n",
       "split0_test_score                                                0.610304   \n",
       "split1_test_score                                                0.609395   \n",
       "split2_test_score                                                0.610179   \n",
       "split3_test_score                                                0.613457   \n",
       "split4_test_score                                                0.598152   \n",
       "mean_test_score                                                  0.608297   \n",
       "std_test_score                                                    0.00526   \n",
       "\n",
       "rank_test_score                                                        1    \\\n",
       "mean_fit_time                                                     0.299133   \n",
       "std_fit_time                                                      0.012448   \n",
       "mean_score_time                                                   0.020244   \n",
       "std_score_time                                                    0.001464   \n",
       "param_logisticregression__C                                     237.485249   \n",
       "params                       {'logisticregression__C': 237.48524885953887}   \n",
       "split0_test_score                                                 0.610304   \n",
       "split1_test_score                                                 0.609395   \n",
       "split2_test_score                                                 0.610179   \n",
       "split3_test_score                                                 0.613457   \n",
       "split4_test_score                                                 0.598152   \n",
       "mean_test_score                                                   0.608297   \n",
       "std_test_score                                                     0.00526   \n",
       "\n",
       "rank_test_score                                                       1    \\\n",
       "mean_fit_time                                                    0.310801   \n",
       "std_fit_time                                                     0.037804   \n",
       "mean_score_time                                                   0.02102   \n",
       "std_score_time                                                   0.002781   \n",
       "param_logisticregression__C                                    346.770715   \n",
       "params                       {'logisticregression__C': 346.7707152018119}   \n",
       "split0_test_score                                                0.610304   \n",
       "split1_test_score                                                0.609395   \n",
       "split2_test_score                                                0.610179   \n",
       "split3_test_score                                                0.613457   \n",
       "split4_test_score                                                0.598152   \n",
       "mean_test_score                                                  0.608297   \n",
       "std_test_score                                                    0.00526   \n",
       "\n",
       "rank_test_score                                                        1    \\\n",
       "mean_fit_time                                                     0.325933   \n",
       "std_fit_time                                                      0.031351   \n",
       "mean_score_time                                                   0.023523   \n",
       "std_score_time                                                    0.002834   \n",
       "param_logisticregression__C                                     123.092306   \n",
       "params                       {'logisticregression__C': 123.09230626129515}   \n",
       "split0_test_score                                                 0.610304   \n",
       "split1_test_score                                                 0.609395   \n",
       "split2_test_score                                                 0.610179   \n",
       "split3_test_score                                                 0.613457   \n",
       "split4_test_score                                                 0.598152   \n",
       "mean_test_score                                                   0.608297   \n",
       "std_test_score                                                     0.00526   \n",
       "\n",
       "rank_test_score                                                       1    \\\n",
       "mean_fit_time                                                    0.312955   \n",
       "std_fit_time                                                     0.022934   \n",
       "mean_score_time                                                   0.02186   \n",
       "std_score_time                                                   0.001601   \n",
       "param_logisticregression__C                                      9.832769   \n",
       "params                       {'logisticregression__C': 9.832769497987721}   \n",
       "split0_test_score                                                0.610304   \n",
       "split1_test_score                                                0.609395   \n",
       "split2_test_score                                                0.610179   \n",
       "split3_test_score                                                0.613457   \n",
       "split4_test_score                                                0.598152   \n",
       "mean_test_score                                                  0.608297   \n",
       "std_test_score                                                    0.00526   \n",
       "\n",
       "rank_test_score                                                        1    \\\n",
       "mean_fit_time                                                     0.314864   \n",
       "std_fit_time                                                       0.01422   \n",
       "mean_score_time                                                   0.021836   \n",
       "std_score_time                                                    0.003509   \n",
       "param_logisticregression__C                                     125.161389   \n",
       "params                       {'logisticregression__C': 125.16138890587565}   \n",
       "split0_test_score                                                 0.610304   \n",
       "split1_test_score                                                 0.609395   \n",
       "split2_test_score                                                 0.610179   \n",
       "split3_test_score                                                 0.613457   \n",
       "split4_test_score                                                 0.598152   \n",
       "mean_test_score                                                   0.608297   \n",
       "std_test_score                                                     0.00526   \n",
       "\n",
       "rank_test_score                                                       1    \\\n",
       "mean_fit_time                                                    0.388195   \n",
       "std_fit_time                                                     0.147691   \n",
       "mean_score_time                                                  0.022909   \n",
       "std_score_time                                                   0.002605   \n",
       "param_logisticregression__C                                      5.502424   \n",
       "params                       {'logisticregression__C': 5.502424397192849}   \n",
       "split0_test_score                                                0.610304   \n",
       "split1_test_score                                                0.609395   \n",
       "split2_test_score                                                0.610179   \n",
       "split3_test_score                                                0.613457   \n",
       "split4_test_score                                                0.598152   \n",
       "mean_test_score                                                  0.608297   \n",
       "std_test_score                                                    0.00526   \n",
       "\n",
       "rank_test_score                                                        1    \\\n",
       "mean_fit_time                                                     0.318186   \n",
       "std_fit_time                                                      0.042589   \n",
       "mean_score_time                                                   0.022119   \n",
       "std_score_time                                                     0.00298   \n",
       "param_logisticregression__C                                     343.247506   \n",
       "params                       {'logisticregression__C': 343.24750593189515}   \n",
       "split0_test_score                                                 0.610304   \n",
       "split1_test_score                                                 0.609395   \n",
       "split2_test_score                                                 0.610179   \n",
       "split3_test_score                                                 0.613457   \n",
       "split4_test_score                                                 0.598152   \n",
       "mean_test_score                                                   0.608297   \n",
       "std_test_score                                                     0.00526   \n",
       "\n",
       "rank_test_score                                                        1    \\\n",
       "mean_fit_time                                                     0.362418   \n",
       "std_fit_time                                                        0.0505   \n",
       "mean_score_time                                                   0.024037   \n",
       "std_score_time                                                    0.004484   \n",
       "param_logisticregression__C                                      125.40087   \n",
       "params                       {'logisticregression__C': 125.40086993701263}   \n",
       "split0_test_score                                                 0.610304   \n",
       "split1_test_score                                                 0.609395   \n",
       "split2_test_score                                                 0.610179   \n",
       "split3_test_score                                                 0.613457   \n",
       "split4_test_score                                                 0.598152   \n",
       "mean_test_score                                                   0.608297   \n",
       "std_test_score                                                     0.00526   \n",
       "\n",
       "rank_test_score                                                       1    \\\n",
       "mean_fit_time                                                    0.323049   \n",
       "std_fit_time                                                     0.017609   \n",
       "mean_score_time                                                  0.023691   \n",
       "std_score_time                                                   0.004733   \n",
       "param_logisticregression__C                                     82.408718   \n",
       "params                       {'logisticregression__C': 82.40871760657014}   \n",
       "split0_test_score                                                0.610304   \n",
       "split1_test_score                                                0.609395   \n",
       "split2_test_score                                                0.610179   \n",
       "split3_test_score                                                0.613457   \n",
       "split4_test_score                                                0.598152   \n",
       "mean_test_score                                                  0.608297   \n",
       "std_test_score                                                    0.00526   \n",
       "\n",
       "rank_test_score              ...  \\\n",
       "mean_fit_time                ...   \n",
       "std_fit_time                 ...   \n",
       "mean_score_time              ...   \n",
       "std_score_time               ...   \n",
       "param_logisticregression__C  ...   \n",
       "params                       ...   \n",
       "split0_test_score            ...   \n",
       "split1_test_score            ...   \n",
       "split2_test_score            ...   \n",
       "split3_test_score            ...   \n",
       "split4_test_score            ...   \n",
       "mean_test_score              ...   \n",
       "std_test_score               ...   \n",
       "\n",
       "rank_test_score                                                          91   \\\n",
       "mean_fit_time                                                       0.142638   \n",
       "std_fit_time                                                        0.010099   \n",
       "mean_score_time                                                     0.022089   \n",
       "std_score_time                                                      0.001136   \n",
       "param_logisticregression__C                                         0.003926   \n",
       "params                       {'logisticregression__C': 0.003926160602289389}   \n",
       "split0_test_score                                                   0.599954   \n",
       "split1_test_score                                                     0.5982   \n",
       "split2_test_score                                                   0.599385   \n",
       "split3_test_score                                                   0.597246   \n",
       "split4_test_score                                                   0.582167   \n",
       "mean_test_score                                                     0.595391   \n",
       "std_test_score                                                      0.006678   \n",
       "\n",
       "rank_test_score                                                           92   \\\n",
       "mean_fit_time                                                        0.137174   \n",
       "std_fit_time                                                         0.002434   \n",
       "mean_score_time                                                      0.023429   \n",
       "std_score_time                                                       0.001727   \n",
       "param_logisticregression__C                                          0.003531   \n",
       "params                       {'logisticregression__C': 0.0035306865158065306}   \n",
       "split0_test_score                                                    0.598126   \n",
       "split1_test_score                                                    0.596219   \n",
       "split2_test_score                                                    0.599538   \n",
       "split3_test_score                                                      0.5958   \n",
       "split4_test_score                                                    0.580721   \n",
       "mean_test_score                                                      0.594081   \n",
       "std_test_score                                                       0.006814   \n",
       "\n",
       "rank_test_score                                                           93   \\\n",
       "mean_fit_time                                                        0.119707   \n",
       "std_fit_time                                                         0.007358   \n",
       "mean_score_time                                                      0.019544   \n",
       "std_score_time                                                       0.002589   \n",
       "param_logisticregression__C                                          0.003433   \n",
       "params                       {'logisticregression__C': 0.0034325253937626606}   \n",
       "split0_test_score                                                    0.598126   \n",
       "split1_test_score                                                    0.596219   \n",
       "split2_test_score                                                    0.599692   \n",
       "split3_test_score                                                      0.5958   \n",
       "split4_test_score                                                    0.580188   \n",
       "mean_test_score                                                      0.594005   \n",
       "std_test_score                                                       0.007048   \n",
       "\n",
       "rank_test_score                                                           94   \\\n",
       "mean_fit_time                                                        0.133705   \n",
       "std_fit_time                                                         0.004818   \n",
       "mean_score_time                                                      0.022924   \n",
       "std_score_time                                                       0.001214   \n",
       "param_logisticregression__C                                          0.003352   \n",
       "params                       {'logisticregression__C': 0.0033524150394419003}   \n",
       "split0_test_score                                                    0.597059   \n",
       "split1_test_score                                                    0.596219   \n",
       "split2_test_score                                                    0.599312   \n",
       "split3_test_score                                                    0.595267   \n",
       "split4_test_score                                                    0.579655   \n",
       "mean_test_score                                                      0.593502   \n",
       "std_test_score                                                       0.007052   \n",
       "\n",
       "rank_test_score                                                          95   \\\n",
       "mean_fit_time                                                       0.134646   \n",
       "std_fit_time                                                        0.011422   \n",
       "mean_score_time                                                      0.02034   \n",
       "std_score_time                                                      0.003836   \n",
       "param_logisticregression__C                                         0.002934   \n",
       "params                       {'logisticregression__C': 0.002934094871595622}   \n",
       "split0_test_score                                                   0.595078   \n",
       "split1_test_score                                                   0.593171   \n",
       "split2_test_score                                                   0.598246   \n",
       "split3_test_score                                                   0.594508   \n",
       "split4_test_score                                                   0.578056   \n",
       "mean_test_score                                                     0.591812   \n",
       "std_test_score                                                      0.007077   \n",
       "\n",
       "rank_test_score                                                         96   \\\n",
       "mean_fit_time                                                      0.129317   \n",
       "std_fit_time                                                       0.006341   \n",
       "mean_score_time                                                    0.016911   \n",
       "std_score_time                                                     0.002971   \n",
       "param_logisticregression__C                                        0.002913   \n",
       "params                       {'logisticregression__C': 0.00291323571652645}   \n",
       "split0_test_score                                                  0.595078   \n",
       "split1_test_score                                                  0.593171   \n",
       "split2_test_score                                                  0.598246   \n",
       "split3_test_score                                                  0.593974   \n",
       "split4_test_score                                                  0.578056   \n",
       "mean_test_score                                                    0.591705   \n",
       "std_test_score                                                     0.007039   \n",
       "\n",
       "rank_test_score                                                           97   \\\n",
       "mean_fit_time                                                        0.120892   \n",
       "std_fit_time                                                         0.004144   \n",
       "mean_score_time                                                      0.020379   \n",
       "std_score_time                                                       0.002368   \n",
       "param_logisticregression__C                                          0.001934   \n",
       "params                       {'logisticregression__C': 0.0019342099065825886}   \n",
       "split0_test_score                                                    0.588754   \n",
       "split1_test_score                                                    0.589974   \n",
       "split2_test_score                                                    0.589797   \n",
       "split3_test_score                                                    0.587278   \n",
       "split4_test_score                                                    0.572806   \n",
       "mean_test_score                                                      0.585722   \n",
       "std_test_score                                                       0.006529   \n",
       "\n",
       "rank_test_score                                                           98   \\\n",
       "mean_fit_time                                                        0.121175   \n",
       "std_fit_time                                                         0.015394   \n",
       "mean_score_time                                                      0.022937   \n",
       "std_score_time                                                       0.002117   \n",
       "param_logisticregression__C                                          0.001814   \n",
       "params                       {'logisticregression__C': 0.0018142238491379852}   \n",
       "split0_test_score                                                    0.587153   \n",
       "split1_test_score                                                    0.588754   \n",
       "split2_test_score                                                    0.587818   \n",
       "split3_test_score                                                    0.587278   \n",
       "split4_test_score                                                    0.571133   \n",
       "mean_test_score                                                      0.584427   \n",
       "std_test_score                                                       0.006671   \n",
       "\n",
       "rank_test_score                                                           99   \\\n",
       "mean_fit_time                                                        0.119087   \n",
       "std_fit_time                                                         0.003459   \n",
       "mean_score_time                                                      0.023449   \n",
       "std_score_time                                                       0.004453   \n",
       "param_logisticregression__C                                          0.001213   \n",
       "params                       {'logisticregression__C': 0.0012129848341722832}   \n",
       "split0_test_score                                                    0.580755   \n",
       "split1_test_score                                                    0.582356   \n",
       "split2_test_score                                                    0.578916   \n",
       "split3_test_score                                                    0.581955   \n",
       "split4_test_score                                                    0.564364   \n",
       "mean_test_score                                                      0.577669   \n",
       "std_test_score                                                       0.006759   \n",
       "\n",
       "rank_test_score                                                           100  \n",
       "mean_fit_time                                                        0.145488  \n",
       "std_fit_time                                                         0.005848  \n",
       "mean_score_time                                                      0.029267  \n",
       "std_score_time                                                       0.005099  \n",
       "param_logisticregression__C                                          0.001101  \n",
       "params                       {'logisticregression__C': 0.0011006600276205214}  \n",
       "split0_test_score                                                    0.579307  \n",
       "split1_test_score                                                    0.581215  \n",
       "split2_test_score                                                    0.578843  \n",
       "split3_test_score                                                    0.579443  \n",
       "split4_test_score                                                    0.562159  \n",
       "mean_test_score                                                      0.576193  \n",
       "std_test_score                                                       0.007063  \n",
       "\n",
       "[13 rows x 100 columns]"
      ]
     },
     "execution_count": 92,
     "metadata": {},
     "output_type": "execute_result"
    }
   ],
   "source": [
    "best_C = search_lr.best_estimator_\n",
    "pd.DataFrame(search_lr.cv_results_).set_index(\"rank_test_score\").sort_index().T"
   ]
  },
  {
   "attachments": {},
   "cell_type": "markdown",
   "metadata": {},
   "source": [
    "From the dataframe above, it shows that the best C for this model is 206.8 . For convienient, We will chose C=200 as best hyperparameter."
   ]
  },
  {
   "cell_type": "code",
   "execution_count": 94,
   "metadata": {},
   "outputs": [
    {
     "data": {
      "text/html": [
       "<div>\n",
       "<style scoped>\n",
       "    .dataframe tbody tr th:only-of-type {\n",
       "        vertical-align: middle;\n",
       "    }\n",
       "\n",
       "    .dataframe tbody tr th {\n",
       "        vertical-align: top;\n",
       "    }\n",
       "\n",
       "    .dataframe thead th {\n",
       "        text-align: right;\n",
       "    }\n",
       "</style>\n",
       "<table border=\"1\" class=\"dataframe\">\n",
       "  <thead>\n",
       "    <tr style=\"text-align: right;\">\n",
       "      <th></th>\n",
       "      <th>fit_time</th>\n",
       "      <th>score_time</th>\n",
       "      <th>test_score</th>\n",
       "      <th>train_score</th>\n",
       "    </tr>\n",
       "  </thead>\n",
       "  <tbody>\n",
       "    <tr>\n",
       "      <th>Dummy</th>\n",
       "      <td>0.003 (+/- 0.002)</td>\n",
       "      <td>0.001 (+/- 0.000)</td>\n",
       "      <td>0.777 (+/- 0.000)</td>\n",
       "      <td>0.777 (+/- 0.000)</td>\n",
       "    </tr>\n",
       "    <tr>\n",
       "      <th>Dummy (recall)</th>\n",
       "      <td>0.003 (+/- 0.001)</td>\n",
       "      <td>0.002 (+/- 0.000)</td>\n",
       "      <td>0.500 (+/- 0.000)</td>\n",
       "      <td>NaN</td>\n",
       "    </tr>\n",
       "    <tr>\n",
       "      <th>logistic_regression</th>\n",
       "      <td>0.255 (+/- 0.092)</td>\n",
       "      <td>0.010 (+/- 0.002)</td>\n",
       "      <td>0.810 (+/- 0.002)</td>\n",
       "      <td>0.811 (+/- 0.001)</td>\n",
       "    </tr>\n",
       "    <tr>\n",
       "      <th>logistic_regression (recall)</th>\n",
       "      <td>0.226 (+/- 0.059)</td>\n",
       "      <td>0.012 (+/- 0.001)</td>\n",
       "      <td>0.608 (+/- 0.006)</td>\n",
       "      <td>NaN</td>\n",
       "    </tr>\n",
       "    <tr>\n",
       "      <th>logistic_regression (Best C)</th>\n",
       "      <td>0.127 (+/- 0.040)</td>\n",
       "      <td>0.012 (+/- 0.002)</td>\n",
       "      <td>0.608 (+/- 0.006)</td>\n",
       "      <td>NaN</td>\n",
       "    </tr>\n",
       "  </tbody>\n",
       "</table>\n",
       "</div>"
      ],
      "text/plain": [
       "                                       fit_time         score_time  \\\n",
       "Dummy                         0.003 (+/- 0.002)  0.001 (+/- 0.000)   \n",
       "Dummy (recall)                0.003 (+/- 0.001)  0.002 (+/- 0.000)   \n",
       "logistic_regression           0.255 (+/- 0.092)  0.010 (+/- 0.002)   \n",
       "logistic_regression (recall)  0.226 (+/- 0.059)  0.012 (+/- 0.001)   \n",
       "logistic_regression (Best C)  0.127 (+/- 0.040)  0.012 (+/- 0.002)   \n",
       "\n",
       "                                     test_score        train_score  \n",
       "Dummy                         0.777 (+/- 0.000)  0.777 (+/- 0.000)  \n",
       "Dummy (recall)                0.500 (+/- 0.000)                NaN  \n",
       "logistic_regression           0.810 (+/- 0.002)  0.811 (+/- 0.001)  \n",
       "logistic_regression (recall)  0.608 (+/- 0.006)                NaN  \n",
       "logistic_regression (Best C)  0.608 (+/- 0.006)                NaN  "
      ]
     },
     "execution_count": 94,
     "metadata": {},
     "output_type": "execute_result"
    }
   ],
   "source": [
    "best_lr = LogisticRegression(max_iter=1000, C=200) \n",
    "best_pipe_lr = make_pipeline(ct, best_lr)\n",
    "results['logistic_regression (Best C)'] = mean_std_cross_val_scores(best_pipe_lr, X_train, y_train, scoring=target_score)\n",
    "pd.DataFrame(results).T"
   ]
  },
  {
   "attachments": {},
   "cell_type": "markdown",
   "metadata": {},
   "source": [
    "It looks like there are not much difference between default C and the best C. They are all 0.608"
   ]
  },
  {
   "cell_type": "code",
   "execution_count": 75,
   "metadata": {
    "tags": []
   },
   "outputs": [
    {
     "name": "stdout",
     "output_type": "stream",
     "text": [
      "Model weights: [[ 0.04356463 -0.06368626  0.63925997  0.08841442  0.11437435  0.00259341\n",
      "   0.04082776  0.04372349 -0.41599036  0.1500249   0.0644223   0.00886739\n",
      "   0.08747877  0.00713826 -0.23146998 -0.19081612 -0.12081014 -0.11320686\n",
      "  -0.02194959 -0.04974352 -0.48726438  0.22554855  0.0386672   0.20640814\n",
      "  -0.10211205 -0.14409696]]\n",
      "Model intercept: [-1.30415201]\n"
     ]
    },
    {
     "data": {
      "text/html": [
       "<div>\n",
       "<style scoped>\n",
       "    .dataframe tbody tr th:only-of-type {\n",
       "        vertical-align: middle;\n",
       "    }\n",
       "\n",
       "    .dataframe tbody tr th {\n",
       "        vertical-align: top;\n",
       "    }\n",
       "\n",
       "    .dataframe thead th {\n",
       "        text-align: right;\n",
       "    }\n",
       "</style>\n",
       "<table border=\"1\" class=\"dataframe\">\n",
       "  <thead>\n",
       "    <tr style=\"text-align: right;\">\n",
       "      <th></th>\n",
       "      <th>features</th>\n",
       "      <th>coefficients</th>\n",
       "    </tr>\n",
       "  </thead>\n",
       "  <tbody>\n",
       "    <tr>\n",
       "      <th>0</th>\n",
       "      <td>AGE</td>\n",
       "      <td>0.043565</td>\n",
       "    </tr>\n",
       "    <tr>\n",
       "      <th>1</th>\n",
       "      <td>LIMIT_BAL</td>\n",
       "      <td>-0.063686</td>\n",
       "    </tr>\n",
       "    <tr>\n",
       "      <th>2</th>\n",
       "      <td>PAY_0</td>\n",
       "      <td>0.639260</td>\n",
       "    </tr>\n",
       "    <tr>\n",
       "      <th>3</th>\n",
       "      <td>PAY_2</td>\n",
       "      <td>0.088414</td>\n",
       "    </tr>\n",
       "    <tr>\n",
       "      <th>4</th>\n",
       "      <td>PAY_3</td>\n",
       "      <td>0.114374</td>\n",
       "    </tr>\n",
       "    <tr>\n",
       "      <th>5</th>\n",
       "      <td>PAY_4</td>\n",
       "      <td>0.002593</td>\n",
       "    </tr>\n",
       "    <tr>\n",
       "      <th>6</th>\n",
       "      <td>PAY_5</td>\n",
       "      <td>0.040828</td>\n",
       "    </tr>\n",
       "    <tr>\n",
       "      <th>7</th>\n",
       "      <td>PAY_6</td>\n",
       "      <td>0.043723</td>\n",
       "    </tr>\n",
       "    <tr>\n",
       "      <th>8</th>\n",
       "      <td>BILL_AMT1</td>\n",
       "      <td>-0.415990</td>\n",
       "    </tr>\n",
       "    <tr>\n",
       "      <th>9</th>\n",
       "      <td>BILL_AMT2</td>\n",
       "      <td>0.150025</td>\n",
       "    </tr>\n",
       "    <tr>\n",
       "      <th>10</th>\n",
       "      <td>BILL_AMT3</td>\n",
       "      <td>0.064422</td>\n",
       "    </tr>\n",
       "    <tr>\n",
       "      <th>11</th>\n",
       "      <td>BILL_AMT4</td>\n",
       "      <td>0.008867</td>\n",
       "    </tr>\n",
       "    <tr>\n",
       "      <th>12</th>\n",
       "      <td>BILL_AMT5</td>\n",
       "      <td>0.087479</td>\n",
       "    </tr>\n",
       "    <tr>\n",
       "      <th>13</th>\n",
       "      <td>BILL_AMT6</td>\n",
       "      <td>0.007138</td>\n",
       "    </tr>\n",
       "    <tr>\n",
       "      <th>14</th>\n",
       "      <td>PAY_AMT1</td>\n",
       "      <td>-0.231470</td>\n",
       "    </tr>\n",
       "    <tr>\n",
       "      <th>15</th>\n",
       "      <td>PAY_AMT2</td>\n",
       "      <td>-0.190816</td>\n",
       "    </tr>\n",
       "    <tr>\n",
       "      <th>16</th>\n",
       "      <td>PAY_AMT3</td>\n",
       "      <td>-0.120810</td>\n",
       "    </tr>\n",
       "    <tr>\n",
       "      <th>17</th>\n",
       "      <td>PAY_AMT4</td>\n",
       "      <td>-0.113207</td>\n",
       "    </tr>\n",
       "    <tr>\n",
       "      <th>18</th>\n",
       "      <td>PAY_AMT5</td>\n",
       "      <td>-0.021950</td>\n",
       "    </tr>\n",
       "    <tr>\n",
       "      <th>19</th>\n",
       "      <td>PAY_AMT6</td>\n",
       "      <td>-0.049744</td>\n",
       "    </tr>\n",
       "    <tr>\n",
       "      <th>20</th>\n",
       "      <td>MARRIAGE_0</td>\n",
       "      <td>-0.487264</td>\n",
       "    </tr>\n",
       "    <tr>\n",
       "      <th>21</th>\n",
       "      <td>MARRIAGE_1</td>\n",
       "      <td>0.225549</td>\n",
       "    </tr>\n",
       "    <tr>\n",
       "      <th>22</th>\n",
       "      <td>MARRIAGE_2</td>\n",
       "      <td>0.038667</td>\n",
       "    </tr>\n",
       "    <tr>\n",
       "      <th>23</th>\n",
       "      <td>MARRIAGE_3</td>\n",
       "      <td>0.206408</td>\n",
       "    </tr>\n",
       "    <tr>\n",
       "      <th>24</th>\n",
       "      <td>EDUCATION</td>\n",
       "      <td>-0.102112</td>\n",
       "    </tr>\n",
       "    <tr>\n",
       "      <th>25</th>\n",
       "      <td>SEX</td>\n",
       "      <td>-0.144097</td>\n",
       "    </tr>\n",
       "  </tbody>\n",
       "</table>\n",
       "</div>"
      ],
      "text/plain": [
       "      features  coefficients\n",
       "0          AGE      0.043565\n",
       "1    LIMIT_BAL     -0.063686\n",
       "2        PAY_0      0.639260\n",
       "3        PAY_2      0.088414\n",
       "4        PAY_3      0.114374\n",
       "5        PAY_4      0.002593\n",
       "6        PAY_5      0.040828\n",
       "7        PAY_6      0.043723\n",
       "8    BILL_AMT1     -0.415990\n",
       "9    BILL_AMT2      0.150025\n",
       "10   BILL_AMT3      0.064422\n",
       "11   BILL_AMT4      0.008867\n",
       "12   BILL_AMT5      0.087479\n",
       "13   BILL_AMT6      0.007138\n",
       "14    PAY_AMT1     -0.231470\n",
       "15    PAY_AMT2     -0.190816\n",
       "16    PAY_AMT3     -0.120810\n",
       "17    PAY_AMT4     -0.113207\n",
       "18    PAY_AMT5     -0.021950\n",
       "19    PAY_AMT6     -0.049744\n",
       "20  MARRIAGE_0     -0.487264\n",
       "21  MARRIAGE_1      0.225549\n",
       "22  MARRIAGE_2      0.038667\n",
       "23  MARRIAGE_3      0.206408\n",
       "24   EDUCATION     -0.102112\n",
       "25         SEX     -0.144097"
      ]
     },
     "execution_count": 75,
     "metadata": {},
     "output_type": "execute_result"
    }
   ],
   "source": [
    "# adapted from lecture 7\n",
    "# we can also see intercept that was learned by the baseline model\n",
    "pipe_lr.fit(X_train, y_train)\n",
    "print(\"Model weights: %s\" % (pipe_lr.named_steps[\"logisticregression\"].coef_))  # these are the learned weights\n",
    "print(\"Model intercept: %s\" % (pipe_lr.named_steps[\"logisticregression\"].intercept_))  # this is the bias term\n",
    "data = {\"features\":preprocess_df.columns, \"coefficients\": pipe_lr.named_steps[\"logisticregression\"].coef_[0]}\n",
    "pd.DataFrame(data)"
   ]
  },
  {
   "attachments": {},
   "cell_type": "markdown",
   "metadata": {},
   "source": [
    "##### interpret coefficients:\n",
    "Some interesting coefficients here age. Notice that we are predicting for credit card default so this positive coefficient is telling us increasing in age will slightly increase chances of default which is a bit counter intuitive because many people could consider young people to have less wealth and less care thus more likely to default. LIMIT_BAL is amount of given credit. In general, people who have more savings, income and history are granted more credits so this coefficient aligns with our judgment. The series of pay are positive because these pays are ordered by payment delay, so people who would delay payment more are more likely going to default. Interestingly, based on the coefficients, married people MARRIAGE_1 are more likely going to default than people with single status MARRIAGE_2 and being female (higher number in sex) means less likely to default. Lastly, being higher in education means less likely to default with a large coefficient (an important factor like sex,marriage,early payment and payment amount)."
   ]
  },
  {
   "cell_type": "code",
   "execution_count": null,
   "metadata": {
    "tags": []
   },
   "outputs": [],
   "source": []
  },
  {
   "cell_type": "markdown",
   "metadata": {},
   "source": [
    "<!-- END QUESTION -->\n",
    "\n",
    "<br><br>"
   ]
  },
  {
   "cell_type": "markdown",
   "metadata": {},
   "source": [
    "<!-- BEGIN QUESTION -->\n",
    "\n",
    "## 8. Different models <a name=\"8\"></a>\n",
    "<hr>\n",
    "rubric={points:12}\n",
    "\n",
    "**Your tasks:**\n",
    "1. Try at least 3 other models aside from a linear model. One of these models should be a tree-based ensemble model. \n",
    "2. Summarize your results in terms of overfitting/underfitting and fit and score times. Can you beat a linear model? "
   ]
  },
  {
   "cell_type": "markdown",
   "metadata": {},
   "source": [
    "<div class=\"alert alert-warning\">\n",
    "    \n",
    "Solution_8\n",
    "    \n",
    "</div>"
   ]
  },
  {
   "cell_type": "markdown",
   "metadata": {},
   "source": [
    "_Type your answer here, replacing this text._"
   ]
  },
  {
   "cell_type": "code",
   "execution_count": 29,
   "metadata": {
    "tags": []
   },
   "outputs": [
    {
     "data": {
      "text/plain": [
       "Ellipsis"
      ]
     },
     "execution_count": 29,
     "metadata": {},
     "output_type": "execute_result"
    }
   ],
   "source": [
    "..."
   ]
  },
  {
   "cell_type": "code",
   "execution_count": 30,
   "metadata": {
    "tags": []
   },
   "outputs": [
    {
     "data": {
      "text/plain": [
       "Ellipsis"
      ]
     },
     "execution_count": 30,
     "metadata": {},
     "output_type": "execute_result"
    }
   ],
   "source": [
    "..."
   ]
  },
  {
   "cell_type": "code",
   "execution_count": 31,
   "metadata": {
    "tags": []
   },
   "outputs": [
    {
     "data": {
      "text/plain": [
       "Ellipsis"
      ]
     },
     "execution_count": 31,
     "metadata": {},
     "output_type": "execute_result"
    }
   ],
   "source": [
    "..."
   ]
  },
  {
   "cell_type": "markdown",
   "metadata": {},
   "source": [
    "<!-- END QUESTION -->\n",
    "\n",
    "<br><br>"
   ]
  },
  {
   "cell_type": "markdown",
   "metadata": {},
   "source": [
    "<!-- BEGIN QUESTION -->\n",
    "\n",
    "## (Optional) 9. Feature selection <a name=\"9\"></a>\n",
    "<hr>\n",
    "rubric={points:2}\n",
    "\n",
    "**Your tasks:**\n",
    "\n",
    "Make some attempts to select relevant features. You may try `RFECV` or forward selection for this. Do the results improve with feature selection? Summarize your results. If you see improvements in the results, keep feature selection in your pipeline. If not, you may abandon it in the next exercises. "
   ]
  },
  {
   "cell_type": "markdown",
   "metadata": {},
   "source": [
    "<div class=\"alert alert-warning\">\n",
    "    \n",
    "Solution_9\n",
    "    \n",
    "</div>"
   ]
  },
  {
   "cell_type": "markdown",
   "metadata": {},
   "source": [
    "_Type your answer here, replacing this text._"
   ]
  },
  {
   "cell_type": "code",
   "execution_count": 32,
   "metadata": {
    "tags": []
   },
   "outputs": [
    {
     "data": {
      "text/plain": [
       "Ellipsis"
      ]
     },
     "execution_count": 32,
     "metadata": {},
     "output_type": "execute_result"
    }
   ],
   "source": [
    "..."
   ]
  },
  {
   "cell_type": "code",
   "execution_count": 33,
   "metadata": {
    "tags": []
   },
   "outputs": [
    {
     "data": {
      "text/plain": [
       "Ellipsis"
      ]
     },
     "execution_count": 33,
     "metadata": {},
     "output_type": "execute_result"
    }
   ],
   "source": [
    "..."
   ]
  },
  {
   "cell_type": "code",
   "execution_count": 34,
   "metadata": {
    "tags": []
   },
   "outputs": [
    {
     "data": {
      "text/plain": [
       "Ellipsis"
      ]
     },
     "execution_count": 34,
     "metadata": {},
     "output_type": "execute_result"
    }
   ],
   "source": [
    "..."
   ]
  },
  {
   "cell_type": "markdown",
   "metadata": {},
   "source": [
    "<!-- END QUESTION -->\n",
    "\n",
    "<br><br>"
   ]
  },
  {
   "cell_type": "markdown",
   "metadata": {},
   "source": [
    "<!-- BEGIN QUESTION -->\n",
    "\n",
    "## 10. Hyperparameter optimization <a name=\"10\"></a>\n",
    "<hr>\n",
    "rubric={points:10}\n",
    "\n",
    "**Your tasks:**\n",
    "\n",
    "Make some attempts to optimize hyperparameters for the models you've tried and summarize your results. In at least one case you should be optimizing multiple hyperparameters for a single model. You may use `sklearn`'s methods for hyperparameter optimization or fancier Bayesian optimization methods. \n",
    "  - [GridSearchCV](http://scikit-learn.org/stable/modules/generated/sklearn.model_selection.GridSearchCV.html)   \n",
    "  - [RandomizedSearchCV](http://scikit-learn.org/stable/modules/generated/sklearn.model_selection.RandomizedSearchCV.html)\n",
    "  - [scikit-optimize](https://github.com/scikit-optimize/scikit-optimize) "
   ]
  },
  {
   "cell_type": "markdown",
   "metadata": {},
   "source": [
    "<div class=\"alert alert-warning\">\n",
    "    \n",
    "Solution_10\n",
    "    \n",
    "</div>"
   ]
  },
  {
   "cell_type": "markdown",
   "metadata": {},
   "source": [
    "_Type your answer here, replacing this text._"
   ]
  },
  {
   "cell_type": "code",
   "execution_count": 35,
   "metadata": {
    "tags": []
   },
   "outputs": [
    {
     "ename": "NameError",
     "evalue": "name 'dummy_grid_search' is not defined",
     "output_type": "error",
     "traceback": [
      "\u001b[0;31m---------------------------------------------------------------------------\u001b[0m",
      "\u001b[0;31mNameError\u001b[0m                                 Traceback (most recent call last)",
      "Cell \u001b[0;32mIn[35], line 11\u001b[0m\n\u001b[1;32m      9\u001b[0m dummy_model\u001b[39m.\u001b[39mset_params(strategy\u001b[39m=\u001b[39ms) \u001b[39m#strategy\u001b[39;00m\n\u001b[1;32m     10\u001b[0m GridSearchCV(dummy_model, dummy_param_grid,scoring\u001b[39m=\u001b[39m\u001b[39m'\u001b[39m\u001b[39maccuracy\u001b[39m\u001b[39m'\u001b[39m) \u001b[39m#grid search\u001b[39;00m\n\u001b[0;32m---> 11\u001b[0m dummy_grid_search\u001b[39m.\u001b[39mfit(X_transformed, y_train) \u001b[39m#fit\u001b[39;00m\n\u001b[1;32m     12\u001b[0m scores \u001b[39m=\u001b[39m cross_validate(dummy_model, X_transformed, y_train, return_train_score\u001b[39m=\u001b[39m\u001b[39mTrue\u001b[39;00m)\n\u001b[1;32m     13\u001b[0m mean_train_score \u001b[39m=\u001b[39m scores[\u001b[39m\"\u001b[39m\u001b[39mtrain_score\u001b[39m\u001b[39m\"\u001b[39m]\u001b[39m.\u001b[39mmean() \u001b[39m# we are only taking mean scores for cross validation here because cv scores should not be that different for dummy\u001b[39;00m\n",
      "\u001b[0;31mNameError\u001b[0m: name 'dummy_grid_search' is not defined"
     ]
    }
   ],
   "source": [
    "# model 1 Dummy classifier: code based on lecture 8 and sklearn.org dummy classifier\n",
    "dummy_param_grid = {'strategy': ['most_frequent', 'stratified', 'uniform']}  \n",
    "#setting up grid for grid search,did not include constant because we need to pick a number or else there is error\n",
    "scores_dict = {'strategy': [], 'mean_train_score': [], 'mean_cv_score': []}  #creat dictionary item to store results\n",
    "\n",
    "dummy_model = DummyClassifier() #our model\n",
    "\n",
    "for s in dummy_param_grid[\"strategy\"]:\n",
    "    dummy_model.set_params(strategy=s) #strategy\n",
    "    GridSearchCV(dummy_model, dummy_param_grid,scoring='accuracy') #grid search\n",
    "    dummy_grid_search.fit(X_transformed, y_train) #fit\n",
    "    scores = cross_validate(dummy_model, X_transformed, y_train, return_train_score=True)\n",
    "    mean_train_score = scores[\"train_score\"].mean() # we are only taking mean scores for cross validation here because cv scores should not be that different for dummy\n",
    "    mean_cv_score = scores[\"test_score\"].mean()\n",
    "    \n",
    "    scores_dict['strategy'].append(s)\n",
    "    scores_dict['mean_train_score'].append(mean_train_score)\n",
    "    scores_dict['mean_cv_score'].append(mean_cv_score)\n",
    "\n",
    "results_df = pd.DataFrame(scores_dict)\n",
    "results_df\n",
    "\n",
    "#we can see here that our model tell us the best strategy is 'most frequent'"
   ]
  },
  {
   "cell_type": "code",
   "execution_count": null,
   "metadata": {
    "tags": []
   },
   "outputs": [
    {
     "name": "stdout",
     "output_type": "stream",
     "text": [
      "5\n",
      "0.8098095238095239\n",
      "10.0\n"
     ]
    },
    {
     "data": {
      "text/html": [
       "<div>\n",
       "<style scoped>\n",
       "    .dataframe tbody tr th:only-of-type {\n",
       "        vertical-align: middle;\n",
       "    }\n",
       "\n",
       "    .dataframe tbody tr th {\n",
       "        vertical-align: top;\n",
       "    }\n",
       "\n",
       "    .dataframe thead th {\n",
       "        text-align: right;\n",
       "    }\n",
       "</style>\n",
       "<table border=\"1\" class=\"dataframe\">\n",
       "  <thead>\n",
       "    <tr style=\"text-align: right;\">\n",
       "      <th></th>\n",
       "      <th>C</th>\n",
       "      <th>mean_train_score</th>\n",
       "      <th>mean_cv_score</th>\n",
       "    </tr>\n",
       "  </thead>\n",
       "  <tbody>\n",
       "    <tr>\n",
       "      <th>0</th>\n",
       "      <td>0.0001</td>\n",
       "      <td>0.778917</td>\n",
       "      <td>0.778857</td>\n",
       "    </tr>\n",
       "    <tr>\n",
       "      <th>1</th>\n",
       "      <td>0.0010</td>\n",
       "      <td>0.800548</td>\n",
       "      <td>0.800476</td>\n",
       "    </tr>\n",
       "    <tr>\n",
       "      <th>2</th>\n",
       "      <td>0.0100</td>\n",
       "      <td>0.809083</td>\n",
       "      <td>0.808238</td>\n",
       "    </tr>\n",
       "    <tr>\n",
       "      <th>3</th>\n",
       "      <td>0.1000</td>\n",
       "      <td>0.810250</td>\n",
       "      <td>0.809619</td>\n",
       "    </tr>\n",
       "    <tr>\n",
       "      <th>4</th>\n",
       "      <td>1.0000</td>\n",
       "      <td>0.810560</td>\n",
       "      <td>0.809714</td>\n",
       "    </tr>\n",
       "    <tr>\n",
       "      <th>5</th>\n",
       "      <td>10.0000</td>\n",
       "      <td>0.810548</td>\n",
       "      <td>0.809810</td>\n",
       "    </tr>\n",
       "    <tr>\n",
       "      <th>6</th>\n",
       "      <td>100.0000</td>\n",
       "      <td>0.810560</td>\n",
       "      <td>0.809810</td>\n",
       "    </tr>\n",
       "    <tr>\n",
       "      <th>7</th>\n",
       "      <td>1000.0000</td>\n",
       "      <td>0.810571</td>\n",
       "      <td>0.809810</td>\n",
       "    </tr>\n",
       "    <tr>\n",
       "      <th>8</th>\n",
       "      <td>10000.0000</td>\n",
       "      <td>0.810571</td>\n",
       "      <td>0.809810</td>\n",
       "    </tr>\n",
       "    <tr>\n",
       "      <th>9</th>\n",
       "      <td>100000.0000</td>\n",
       "      <td>0.810571</td>\n",
       "      <td>0.809762</td>\n",
       "    </tr>\n",
       "  </tbody>\n",
       "</table>\n",
       "</div>"
      ],
      "text/plain": [
       "             C  mean_train_score  mean_cv_score\n",
       "0       0.0001          0.778917       0.778857\n",
       "1       0.0010          0.800548       0.800476\n",
       "2       0.0100          0.809083       0.808238\n",
       "3       0.1000          0.810250       0.809619\n",
       "4       1.0000          0.810560       0.809714\n",
       "5      10.0000          0.810548       0.809810\n",
       "6     100.0000          0.810560       0.809810\n",
       "7    1000.0000          0.810571       0.809810\n",
       "8   10000.0000          0.810571       0.809810\n",
       "9  100000.0000          0.810571       0.809762"
      ]
     },
     "execution_count": 84,
     "metadata": {},
     "output_type": "execute_result"
    }
   ],
   "source": [
    "# model 2 logistic regression: code based on lesture 7, lecture 8\n",
    "lr_param_grid = {\"C\": 10.0 ** np.arange(-4, 6, 1)} #setting up grid for gridsearch\n",
    "results_dict = {\"C\": [], \"mean_train_score\": [], \"mean_cv_score\": []} #our result are here\n",
    "\n",
    "lr_model = LogisticRegression(max_iter=1000) #our model\n",
    "\n",
    "lr_grid_search = GridSearchCV(lr_model, lr_param_grid)\n",
    "lr_grid_search.fit(X_transformed, y_train)\n",
    "\n",
    "for C in lr_param_grid[\"C\"]:\n",
    "    lr_model.set_params(C=C)\n",
    "    scores = cross_validate(lr_model, X_transformed, y_train, return_train_score=True) # perform cross-validation\n",
    "    mean_train_score = scores[\"train_score\"].mean()\n",
    "    mean_cv_score = scores[\"test_score\"].mean()\n",
    "    \n",
    "    results_dict[\"C\"].append(C)\n",
    "    results_dict[\"mean_train_score\"].append(mean_train_score)\n",
    "    results_dict[\"mean_cv_score\"].append(mean_cv_score)\n",
    "\n",
    "results_df = pd.DataFrame(results_dict)\n",
    "best_score_index = results_df['mean_cv_score'].argmax()\n",
    "print(best_score_index)\n",
    "best_score = results_df.loc[best_score_index, 'mean_cv_score']\n",
    "print(best_score)\n",
    "best_parameters = results_df.loc[best_score_index, 'C']\n",
    "print(best_parameters)\n",
    "results_df"
   ]
  },
  {
   "cell_type": "code",
   "execution_count": null,
   "metadata": {
    "tags": []
   },
   "outputs": [],
   "source": [
    "..."
   ]
  },
  {
   "cell_type": "code",
   "execution_count": null,
   "metadata": {
    "tags": []
   },
   "outputs": [],
   "source": [
    "..."
   ]
  },
  {
   "cell_type": "code",
   "execution_count": null,
   "metadata": {
    "tags": []
   },
   "outputs": [],
   "source": [
    "..."
   ]
  },
  {
   "cell_type": "code",
   "execution_count": null,
   "metadata": {
    "tags": []
   },
   "outputs": [],
   "source": [
    "..."
   ]
  },
  {
   "cell_type": "code",
   "execution_count": null,
   "metadata": {
    "tags": []
   },
   "outputs": [],
   "source": [
    "..."
   ]
  },
  {
   "cell_type": "code",
   "execution_count": null,
   "metadata": {
    "tags": []
   },
   "outputs": [],
   "source": [
    "..."
   ]
  },
  {
   "cell_type": "markdown",
   "metadata": {},
   "source": [
    "<!-- END QUESTION -->\n",
    "\n",
    "<br><br>"
   ]
  },
  {
   "cell_type": "markdown",
   "metadata": {},
   "source": [
    "<!-- BEGIN QUESTION -->\n",
    "\n",
    "## 11. Interpretation and feature importances <a name=\"1\"></a>\n",
    "<hr>\n",
    "rubric={points:10}\n",
    "\n",
    "**Your tasks:**\n",
    "\n",
    "1. Use the methods we saw in class (e.g., `eli5`, `shap`) (or any other methods of your choice) to examine the most important features of one of the non-linear models. \n",
    "2. Summarize your observations. "
   ]
  },
  {
   "cell_type": "markdown",
   "metadata": {},
   "source": [
    "<div class=\"alert alert-warning\">\n",
    "    \n",
    "Solution_11\n",
    "    \n",
    "</div>"
   ]
  },
  {
   "cell_type": "markdown",
   "metadata": {},
   "source": [
    "_Type your answer here, replacing this text._"
   ]
  },
  {
   "cell_type": "code",
   "execution_count": null,
   "metadata": {
    "tags": []
   },
   "outputs": [],
   "source": [
    "..."
   ]
  },
  {
   "cell_type": "code",
   "execution_count": null,
   "metadata": {
    "tags": []
   },
   "outputs": [],
   "source": [
    "..."
   ]
  },
  {
   "cell_type": "code",
   "execution_count": null,
   "metadata": {
    "tags": []
   },
   "outputs": [],
   "source": [
    "..."
   ]
  },
  {
   "cell_type": "code",
   "execution_count": null,
   "metadata": {
    "tags": []
   },
   "outputs": [],
   "source": [
    "..."
   ]
  },
  {
   "cell_type": "code",
   "execution_count": null,
   "metadata": {
    "tags": []
   },
   "outputs": [],
   "source": [
    "..."
   ]
  },
  {
   "cell_type": "code",
   "execution_count": null,
   "metadata": {
    "tags": []
   },
   "outputs": [],
   "source": [
    "..."
   ]
  },
  {
   "cell_type": "code",
   "execution_count": null,
   "metadata": {
    "tags": []
   },
   "outputs": [],
   "source": [
    "..."
   ]
  },
  {
   "cell_type": "code",
   "execution_count": null,
   "metadata": {
    "tags": []
   },
   "outputs": [],
   "source": [
    "..."
   ]
  },
  {
   "cell_type": "code",
   "execution_count": null,
   "metadata": {
    "tags": []
   },
   "outputs": [],
   "source": [
    "..."
   ]
  },
  {
   "cell_type": "code",
   "execution_count": null,
   "metadata": {
    "tags": []
   },
   "outputs": [],
   "source": [
    "..."
   ]
  },
  {
   "cell_type": "code",
   "execution_count": null,
   "metadata": {
    "tags": []
   },
   "outputs": [],
   "source": [
    "..."
   ]
  },
  {
   "cell_type": "markdown",
   "metadata": {},
   "source": [
    "<!-- END QUESTION -->\n",
    "\n",
    "<br><br>"
   ]
  },
  {
   "cell_type": "markdown",
   "metadata": {
    "tags": []
   },
   "source": [
    "<!-- BEGIN QUESTION -->\n",
    "\n",
    "## 12. Results on the test set <a name=\"12\"></a>\n",
    "<hr>\n",
    "\n",
    "rubric={points:10}\n",
    "\n",
    "**Your tasks:**\n",
    "\n",
    "1. Try your best performing model on the test data and report test scores. \n",
    "2. Do the test scores agree with the validation scores from before? To what extent do you trust your results? Do you think you've had issues with optimization bias? \n",
    "3. Take one or two test predictions and explain these individual predictions (e.g., with SHAP force plots).  "
   ]
  },
  {
   "cell_type": "markdown",
   "metadata": {},
   "source": [
    "<div class=\"alert alert-warning\">\n",
    "    \n",
    "Solution_12\n",
    "    \n",
    "</div>"
   ]
  },
  {
   "cell_type": "markdown",
   "metadata": {},
   "source": [
    "_Type your answer here, replacing this text._"
   ]
  },
  {
   "cell_type": "code",
   "execution_count": null,
   "metadata": {
    "tags": []
   },
   "outputs": [],
   "source": [
    "..."
   ]
  },
  {
   "cell_type": "code",
   "execution_count": null,
   "metadata": {
    "tags": []
   },
   "outputs": [],
   "source": [
    "..."
   ]
  },
  {
   "cell_type": "code",
   "execution_count": null,
   "metadata": {
    "tags": []
   },
   "outputs": [],
   "source": [
    "..."
   ]
  },
  {
   "cell_type": "code",
   "execution_count": null,
   "metadata": {
    "tags": []
   },
   "outputs": [],
   "source": [
    "..."
   ]
  },
  {
   "cell_type": "code",
   "execution_count": null,
   "metadata": {
    "tags": []
   },
   "outputs": [],
   "source": [
    "..."
   ]
  },
  {
   "cell_type": "code",
   "execution_count": null,
   "metadata": {
    "tags": []
   },
   "outputs": [],
   "source": [
    "..."
   ]
  },
  {
   "cell_type": "code",
   "execution_count": null,
   "metadata": {
    "tags": []
   },
   "outputs": [],
   "source": [
    "..."
   ]
  },
  {
   "cell_type": "code",
   "execution_count": null,
   "metadata": {
    "tags": []
   },
   "outputs": [],
   "source": [
    "..."
   ]
  },
  {
   "cell_type": "code",
   "execution_count": null,
   "metadata": {
    "tags": []
   },
   "outputs": [],
   "source": [
    "..."
   ]
  },
  {
   "cell_type": "code",
   "execution_count": null,
   "metadata": {
    "tags": []
   },
   "outputs": [],
   "source": [
    "..."
   ]
  },
  {
   "cell_type": "code",
   "execution_count": null,
   "metadata": {
    "tags": []
   },
   "outputs": [],
   "source": [
    "..."
   ]
  },
  {
   "cell_type": "code",
   "execution_count": null,
   "metadata": {
    "tags": []
   },
   "outputs": [],
   "source": [
    "..."
   ]
  },
  {
   "cell_type": "markdown",
   "metadata": {},
   "source": [
    "<!-- END QUESTION -->\n",
    "\n",
    "<br><br>"
   ]
  },
  {
   "cell_type": "markdown",
   "metadata": {},
   "source": [
    "<!-- BEGIN QUESTION -->\n",
    "\n",
    "## 13. Summary of results <a name=\"13\"></a>\n",
    "<hr>\n",
    "rubric={points:12}\n",
    "\n",
    "Imagine that you want to present the summary of these results to your boss and co-workers. \n",
    "\n",
    "**Your tasks:**\n",
    "\n",
    "1. Create a table summarizing important results. \n",
    "2. Write concluding remarks.\n",
    "3. Discuss other ideas that you did not try but could potentially improve the performance/interpretability . \n",
    "3. Report your final test score along with the metric you used at the top of this notebook in the [Submission instructions section](#si)."
   ]
  },
  {
   "cell_type": "markdown",
   "metadata": {},
   "source": [
    "<div class=\"alert alert-warning\">\n",
    "    \n",
    "Solution_13\n",
    "    \n",
    "</div>"
   ]
  },
  {
   "cell_type": "markdown",
   "metadata": {},
   "source": [
    "_Type your answer here, replacing this text._"
   ]
  },
  {
   "cell_type": "code",
   "execution_count": null,
   "metadata": {
    "tags": []
   },
   "outputs": [],
   "source": [
    "..."
   ]
  },
  {
   "cell_type": "code",
   "execution_count": null,
   "metadata": {
    "tags": []
   },
   "outputs": [],
   "source": [
    "..."
   ]
  },
  {
   "cell_type": "markdown",
   "metadata": {},
   "source": [
    "<!-- END QUESTION -->\n",
    "\n",
    "<br><br>"
   ]
  },
  {
   "cell_type": "markdown",
   "metadata": {},
   "source": [
    "<br><br>"
   ]
  },
  {
   "cell_type": "markdown",
   "metadata": {},
   "source": [
    "<!-- BEGIN QUESTION -->\n",
    "\n",
    "## (Optional) 14. Your takeaway <a name=\"15\"></a>\n",
    "<hr>\n",
    "rubric={points:2}\n",
    "\n",
    "**Your tasks:**\n",
    "\n",
    "What is your biggest takeaway from the supervised machine learning material we have learned so far? Please write thoughtful answers.  "
   ]
  },
  {
   "cell_type": "markdown",
   "metadata": {},
   "source": [
    "<div class=\"alert alert-warning\">\n",
    "    \n",
    "Solution_14\n",
    "    \n",
    "</div>"
   ]
  },
  {
   "cell_type": "markdown",
   "metadata": {},
   "source": [
    "<!-- END QUESTION -->\n",
    "\n",
    "<br><br>"
   ]
  },
  {
   "cell_type": "markdown",
   "metadata": {},
   "source": [
    "**PLEASE READ BEFORE YOU SUBMIT:** \n",
    "\n",
    "When you are ready to submit your assignment do the following:\n",
    "\n",
    "1. Run all cells in your notebook to make sure there are no errors by doing `Kernel -> Restart Kernel and Clear All Outputs` and then `Run -> Run All Cells`. \n",
    "2. Notebooks with cell execution numbers out of order or not starting from \"1\" will have marks deducted. Notebooks without the output displayed may not be graded at all (because we need to see the output in order to grade your work).\n",
    "4. Upload the assignment using Gradescope's drag and drop tool. Check out this [Gradescope Student Guide](https://lthub.ubc.ca/guides/gradescope-student-guide/) if you need help with Gradescope submission. \n",
    "5. Make sure that the plots and output are rendered properly in your submitted file. If the .ipynb file is too big and doesn't render on Gradescope, also upload a pdf or html in addition to the .ipynb so that the TAs can view your submission on Gradescope. "
   ]
  },
  {
   "cell_type": "markdown",
   "metadata": {},
   "source": [
    "This was a tricky one but you did it! Have a great weekend! "
   ]
  },
  {
   "cell_type": "markdown",
   "metadata": {},
   "source": [
    "![](img/eva-well-done.png)"
   ]
  }
 ],
 "metadata": {
  "kernelspec": {
   "display_name": "Python 3 (ipykernel)",
   "language": "python",
   "name": "python3"
  },
  "language_info": {
   "codemirror_mode": {
    "name": "ipython",
    "version": 3
   },
   "file_extension": ".py",
   "mimetype": "text/x-python",
   "name": "python",
   "nbconvert_exporter": "python",
   "pygments_lexer": "ipython3",
   "version": "3.10.11"
  },
  "otter": {
   "OK_FORMAT": true,
   "tests": {}
  }
 },
 "nbformat": 4,
 "nbformat_minor": 4
}
